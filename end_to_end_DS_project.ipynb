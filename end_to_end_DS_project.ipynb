{
 "cells": [
  {
   "cell_type": "markdown",
   "metadata": {},
   "source": [
    "## Problem Statement : Predict Melbourne house price using historic data."
   ]
  },
  {
   "cell_type": "code",
   "execution_count": 1,
   "metadata": {
    "collapsed": true
   },
   "outputs": [],
   "source": [
    "import pandas as pd\n",
    "import numpy as np\n",
    "import matplotlib.pyplot as plt\n",
    "% matplotlib inline\n",
    "import seaborn as sns\n",
    "from sklearn.linear_model import LinearRegression\n",
    "from sklearn.linear_model import SGDRegressor"
   ]
  },
  {
   "cell_type": "markdown",
   "metadata": {},
   "source": [
    "#### Load Housing Price Prediction data from csv file"
   ]
  },
  {
   "cell_type": "code",
   "execution_count": 2,
   "metadata": {
    "collapsed": true
   },
   "outputs": [],
   "source": [
    "data = pd.read_csv('./dataset/Melbourne_housing_FULL.csv')"
   ]
  },
  {
   "cell_type": "markdown",
   "metadata": {},
   "source": [
    "Suburb: Suburb\n",
    "\n",
    "Address: Address\n",
    "\n",
    "Rooms: Number of rooms\n",
    "\n",
    "Price: Price in Australian dollars\n",
    "\n",
    "Method: S - property sold; SP - property sold prior; PI - property passed in; PN - sold prior not disclosed; SN - sold not disclosed; NB - no bid; VB - vendor bid; W - withdrawn prior to auction; SA - sold after auction; SS - sold after auction price not disclosed. N/A - price or highest bid not available.\n",
    "\n",
    "Type: br - bedroom(s); h - house,cottage,villa, semi,terrace; u - unit, duplex; t - townhouse; dev site - development site; o res - other residential.\n",
    "\n",
    "SellerG: Real Estate Agent\n",
    "\n",
    "Date: Date sold\n",
    "\n",
    "Distance: Distance from CBD in Kilometres\n",
    "\n",
    "Regionname: General Region (West, North West, North, North east ...etc)\n",
    "\n",
    "Propertycount: Number of properties that exist in the suburb.\n",
    "\n",
    "Bedroom2 : Scraped # of Bedrooms (from different source)\n",
    "\n",
    "Bathroom: Number of Bathrooms\n",
    "\n",
    "Car: Number of carspots\n",
    "\n",
    "Landsize: Land Size in Metres\n",
    "\n",
    "BuildingArea: Building Size in Metres\n",
    "\n",
    "YearBuilt: Year the house was built\n",
    "\n",
    "CouncilArea: Governing council for the area\n",
    "\n",
    "Lattitude: Self explanitory\n",
    "\n",
    "Longtitude: Self explanitory\n",
    "\n",
    "Postcode: Postal Code"
   ]
  },
  {
   "cell_type": "markdown",
   "metadata": {},
   "source": [
    "#### Let's have a look at shape of the dataframe"
   ]
  },
  {
   "cell_type": "code",
   "execution_count": 3,
   "metadata": {},
   "outputs": [
    {
     "data": {
      "text/plain": [
       "(34857, 21)"
      ]
     },
     "execution_count": 3,
     "metadata": {},
     "output_type": "execute_result"
    }
   ],
   "source": [
    "data.shape"
   ]
  },
  {
   "cell_type": "markdown",
   "metadata": {},
   "source": [
    "#### Let's look at column names in dataset"
   ]
  },
  {
   "cell_type": "code",
   "execution_count": 4,
   "metadata": {},
   "outputs": [
    {
     "data": {
      "text/plain": [
       "Index(['Suburb', 'Address', 'Rooms', 'Type', 'Price', 'Method', 'SellerG',\n",
       "       'Date', 'Distance', 'Postcode', 'Bedroom2', 'Bathroom', 'Car',\n",
       "       'Landsize', 'BuildingArea', 'YearBuilt', 'CouncilArea', 'Lattitude',\n",
       "       'Longtitude', 'Regionname', 'Propertycount'],\n",
       "      dtype='object')"
      ]
     },
     "execution_count": 4,
     "metadata": {},
     "output_type": "execute_result"
    }
   ],
   "source": [
    "data.columns"
   ]
  },
  {
   "cell_type": "markdown",
   "metadata": {},
   "source": [
    "#### Check if all records have \"Price\". Filter records with \"Price\" and take that as training set."
   ]
  },
  {
   "cell_type": "code",
   "execution_count": 5,
   "metadata": {},
   "outputs": [
    {
     "data": {
      "text/plain": [
       "27247"
      ]
     },
     "execution_count": 5,
     "metadata": {},
     "output_type": "execute_result"
    }
   ],
   "source": [
    "data.Price.count() # Some historic records have missing values in target variable."
   ]
  },
  {
   "cell_type": "code",
   "execution_count": 6,
   "metadata": {
    "collapsed": true
   },
   "outputs": [],
   "source": [
    "data_no_nulls_in_target = data[~ data.Price.isnull() ] ## Eliminated recores with \"Price\" null"
   ]
  },
  {
   "cell_type": "code",
   "execution_count": 7,
   "metadata": {},
   "outputs": [
    {
     "data": {
      "text/plain": [
       "(27247, 21)"
      ]
     },
     "execution_count": 7,
     "metadata": {},
     "output_type": "execute_result"
    }
   ],
   "source": [
    "data_no_nulls_in_target.shape"
   ]
  },
  {
   "cell_type": "code",
   "execution_count": 8,
   "metadata": {
    "collapsed": true
   },
   "outputs": [],
   "source": [
    "from sklearn.model_selection import ShuffleSplit\n",
    "shuffleSplit = ShuffleSplit(n_splits=1,test_size = 0.2 , random_state=42)\n",
    "for train_index, test_index in shuffleSplit.split(data_no_nulls_in_target):\n",
    "    training_set = data_no_nulls_in_target.loc[train_index]\n",
    "    test_set = data_no_nulls_in_target.loc[test_index]"
   ]
  },
  {
   "cell_type": "code",
   "execution_count": 9,
   "metadata": {},
   "outputs": [
    {
     "data": {
      "text/plain": [
       "(21797, 21)"
      ]
     },
     "execution_count": 9,
     "metadata": {},
     "output_type": "execute_result"
    }
   ],
   "source": [
    "training_set.shape"
   ]
  },
  {
   "cell_type": "markdown",
   "metadata": {},
   "source": [
    "#### Just to get an idea, let's have a look at first 5 records"
   ]
  },
  {
   "cell_type": "code",
   "execution_count": 10,
   "metadata": {},
   "outputs": [
    {
     "data": {
      "text/html": [
       "<div>\n",
       "<style>\n",
       "    .dataframe thead tr:only-child th {\n",
       "        text-align: right;\n",
       "    }\n",
       "\n",
       "    .dataframe thead th {\n",
       "        text-align: left;\n",
       "    }\n",
       "\n",
       "    .dataframe tbody tr th {\n",
       "        vertical-align: top;\n",
       "    }\n",
       "</style>\n",
       "<table border=\"1\" class=\"dataframe\">\n",
       "  <thead>\n",
       "    <tr style=\"text-align: right;\">\n",
       "      <th></th>\n",
       "      <th>Suburb</th>\n",
       "      <th>Address</th>\n",
       "      <th>Rooms</th>\n",
       "      <th>Type</th>\n",
       "      <th>Price</th>\n",
       "      <th>Method</th>\n",
       "      <th>SellerG</th>\n",
       "      <th>Date</th>\n",
       "      <th>Distance</th>\n",
       "      <th>Postcode</th>\n",
       "      <th>...</th>\n",
       "      <th>Bathroom</th>\n",
       "      <th>Car</th>\n",
       "      <th>Landsize</th>\n",
       "      <th>BuildingArea</th>\n",
       "      <th>YearBuilt</th>\n",
       "      <th>CouncilArea</th>\n",
       "      <th>Lattitude</th>\n",
       "      <th>Longtitude</th>\n",
       "      <th>Regionname</th>\n",
       "      <th>Propertycount</th>\n",
       "    </tr>\n",
       "  </thead>\n",
       "  <tbody>\n",
       "    <tr>\n",
       "      <th>17957</th>\n",
       "      <td>Carnegie</td>\n",
       "      <td>29 Holywood Gr</td>\n",
       "      <td>3.0</td>\n",
       "      <td>h</td>\n",
       "      <td>1370000.0</td>\n",
       "      <td>S</td>\n",
       "      <td>Gary</td>\n",
       "      <td>12/08/2017</td>\n",
       "      <td>10.1</td>\n",
       "      <td>3163.0</td>\n",
       "      <td>...</td>\n",
       "      <td>1.0</td>\n",
       "      <td>2.0</td>\n",
       "      <td>485.0</td>\n",
       "      <td>NaN</td>\n",
       "      <td>NaN</td>\n",
       "      <td>Glen Eira City Council</td>\n",
       "      <td>-37.88553</td>\n",
       "      <td>145.05012</td>\n",
       "      <td>Southern Metropolitan</td>\n",
       "      <td>7822.0</td>\n",
       "    </tr>\n",
       "    <tr>\n",
       "      <th>6753</th>\n",
       "      <td>Middle Park</td>\n",
       "      <td>96 Hambleton St</td>\n",
       "      <td>3.0</td>\n",
       "      <td>h</td>\n",
       "      <td>2956000.0</td>\n",
       "      <td>S</td>\n",
       "      <td>Marshall</td>\n",
       "      <td>4/03/2017</td>\n",
       "      <td>4.1</td>\n",
       "      <td>3206.0</td>\n",
       "      <td>...</td>\n",
       "      <td>2.0</td>\n",
       "      <td>0.0</td>\n",
       "      <td>300.0</td>\n",
       "      <td>NaN</td>\n",
       "      <td>NaN</td>\n",
       "      <td>Port Phillip City Council</td>\n",
       "      <td>-37.84770</td>\n",
       "      <td>144.96070</td>\n",
       "      <td>Southern Metropolitan</td>\n",
       "      <td>2019.0</td>\n",
       "    </tr>\n",
       "    <tr>\n",
       "      <th>1833</th>\n",
       "      <td>NaN</td>\n",
       "      <td>NaN</td>\n",
       "      <td>NaN</td>\n",
       "      <td>NaN</td>\n",
       "      <td>NaN</td>\n",
       "      <td>NaN</td>\n",
       "      <td>NaN</td>\n",
       "      <td>NaN</td>\n",
       "      <td>NaN</td>\n",
       "      <td>NaN</td>\n",
       "      <td>...</td>\n",
       "      <td>NaN</td>\n",
       "      <td>NaN</td>\n",
       "      <td>NaN</td>\n",
       "      <td>NaN</td>\n",
       "      <td>NaN</td>\n",
       "      <td>NaN</td>\n",
       "      <td>NaN</td>\n",
       "      <td>NaN</td>\n",
       "      <td>NaN</td>\n",
       "      <td>NaN</td>\n",
       "    </tr>\n",
       "    <tr>\n",
       "      <th>19795</th>\n",
       "      <td>NaN</td>\n",
       "      <td>NaN</td>\n",
       "      <td>NaN</td>\n",
       "      <td>NaN</td>\n",
       "      <td>NaN</td>\n",
       "      <td>NaN</td>\n",
       "      <td>NaN</td>\n",
       "      <td>NaN</td>\n",
       "      <td>NaN</td>\n",
       "      <td>NaN</td>\n",
       "      <td>...</td>\n",
       "      <td>NaN</td>\n",
       "      <td>NaN</td>\n",
       "      <td>NaN</td>\n",
       "      <td>NaN</td>\n",
       "      <td>NaN</td>\n",
       "      <td>NaN</td>\n",
       "      <td>NaN</td>\n",
       "      <td>NaN</td>\n",
       "      <td>NaN</td>\n",
       "      <td>NaN</td>\n",
       "    </tr>\n",
       "    <tr>\n",
       "      <th>17054</th>\n",
       "      <td>Hughesdale</td>\n",
       "      <td>198 Poath Rd</td>\n",
       "      <td>3.0</td>\n",
       "      <td>h</td>\n",
       "      <td>1250000.0</td>\n",
       "      <td>VB</td>\n",
       "      <td>hockingstuart</td>\n",
       "      <td>27/05/2017</td>\n",
       "      <td>12.3</td>\n",
       "      <td>3166.0</td>\n",
       "      <td>...</td>\n",
       "      <td>1.0</td>\n",
       "      <td>2.0</td>\n",
       "      <td>603.0</td>\n",
       "      <td>NaN</td>\n",
       "      <td>NaN</td>\n",
       "      <td>Monash City Council</td>\n",
       "      <td>-37.90192</td>\n",
       "      <td>145.07560</td>\n",
       "      <td>Southern Metropolitan</td>\n",
       "      <td>3145.0</td>\n",
       "    </tr>\n",
       "  </tbody>\n",
       "</table>\n",
       "<p>5 rows × 21 columns</p>\n",
       "</div>"
      ],
      "text/plain": [
       "            Suburb          Address  Rooms Type      Price Method  \\\n",
       "17957     Carnegie   29 Holywood Gr    3.0    h  1370000.0      S   \n",
       "6753   Middle Park  96 Hambleton St    3.0    h  2956000.0      S   \n",
       "1833           NaN              NaN    NaN  NaN        NaN    NaN   \n",
       "19795          NaN              NaN    NaN  NaN        NaN    NaN   \n",
       "17054   Hughesdale     198 Poath Rd    3.0    h  1250000.0     VB   \n",
       "\n",
       "             SellerG        Date  Distance  Postcode      ...       Bathroom  \\\n",
       "17957           Gary  12/08/2017      10.1    3163.0      ...            1.0   \n",
       "6753        Marshall   4/03/2017       4.1    3206.0      ...            2.0   \n",
       "1833             NaN         NaN       NaN       NaN      ...            NaN   \n",
       "19795            NaN         NaN       NaN       NaN      ...            NaN   \n",
       "17054  hockingstuart  27/05/2017      12.3    3166.0      ...            1.0   \n",
       "\n",
       "       Car  Landsize  BuildingArea  YearBuilt                CouncilArea  \\\n",
       "17957  2.0     485.0           NaN        NaN     Glen Eira City Council   \n",
       "6753   0.0     300.0           NaN        NaN  Port Phillip City Council   \n",
       "1833   NaN       NaN           NaN        NaN                        NaN   \n",
       "19795  NaN       NaN           NaN        NaN                        NaN   \n",
       "17054  2.0     603.0           NaN        NaN        Monash City Council   \n",
       "\n",
       "      Lattitude  Longtitude             Regionname Propertycount  \n",
       "17957 -37.88553   145.05012  Southern Metropolitan        7822.0  \n",
       "6753  -37.84770   144.96070  Southern Metropolitan        2019.0  \n",
       "1833        NaN         NaN                    NaN           NaN  \n",
       "19795       NaN         NaN                    NaN           NaN  \n",
       "17054 -37.90192   145.07560  Southern Metropolitan        3145.0  \n",
       "\n",
       "[5 rows x 21 columns]"
      ]
     },
     "execution_count": 10,
     "metadata": {},
     "output_type": "execute_result"
    }
   ],
   "source": [
    "training_set.head()"
   ]
  },
  {
   "cell_type": "markdown",
   "metadata": {},
   "source": [
    "## Exploratory Data Analysis\n",
    "###  As part of data analysis we refine the data - below are some common activities we do.\n",
    "\n",
    "- **Missing : ** Check for missing or incomplete data, impute/fillna with appropriate data\n",
    "- **Quality : ** Check for duplicates, accuracy, unusual data.\n",
    "- **Parse : ** Prase existing data and create new fearures. e.g. Extract year and month from date\n",
    "- **Convert : ** Free text to coded value (LabelEncoder, One-Hot-Encoding or LabelBinarizer)\n",
    "- **Derive** Derive new feature out of existing featre/fearues e.g. gender from title Mr. Mrs.\n",
    "- **Calculate** percentages, proportion\n",
    "- **Remove** Remove redundant or not so useful data\n",
    "- **Merge** Merge multiple columns e.g. first and surname for full name\n",
    "- **Aggregate** e.g. rollup by year, cluster by area\n",
    "- **Filter** e.g. exclude based on location\n",
    "- **Sample** e.g. extract a representative data\n",
    "- **Summary** Pandas describe function or stats like mean"
   ]
  },
  {
   "cell_type": "markdown",
   "metadata": {},
   "source": [
    "#### Check if any columns have got nulls"
   ]
  },
  {
   "cell_type": "code",
   "execution_count": 11,
   "metadata": {},
   "outputs": [
    {
     "data": {
      "text/plain": [
       "Suburb           True\n",
       "Address          True\n",
       "Rooms            True\n",
       "Type             True\n",
       "Price            True\n",
       "Method           True\n",
       "SellerG          True\n",
       "Date             True\n",
       "Distance         True\n",
       "Postcode         True\n",
       "Bedroom2         True\n",
       "Bathroom         True\n",
       "Car              True\n",
       "Landsize         True\n",
       "BuildingArea     True\n",
       "YearBuilt        True\n",
       "CouncilArea      True\n",
       "Lattitude        True\n",
       "Longtitude       True\n",
       "Regionname       True\n",
       "Propertycount    True\n",
       "dtype: bool"
      ]
     },
     "execution_count": 11,
     "metadata": {},
     "output_type": "execute_result"
    }
   ],
   "source": [
    "training_set.isnull().any()"
   ]
  },
  {
   "cell_type": "markdown",
   "metadata": {},
   "source": [
    "#### Look at distinct data types in our data"
   ]
  },
  {
   "cell_type": "code",
   "execution_count": 12,
   "metadata": {},
   "outputs": [
    {
     "data": {
      "text/plain": [
       "float64    13\n",
       "object      8\n",
       "dtype: int64"
      ]
     },
     "execution_count": 12,
     "metadata": {},
     "output_type": "execute_result"
    }
   ],
   "source": [
    "training_set.dtypes.value_counts()"
   ]
  },
  {
   "cell_type": "markdown",
   "metadata": {},
   "source": [
    "#### Check if numerical columns have got nulls. \n",
    "  * If we see below, most of the numerical columns have got nulls. \n",
    "  * Some features like \"Postcode\", \"Lattitude\", and \"Longtitude\" are related features.  These three reatures are related to \"Address\". I am thinking if we can use \"Postcode\" feature to represent all there."
   ]
  },
  {
   "cell_type": "code",
   "execution_count": 13,
   "metadata": {},
   "outputs": [
    {
     "data": {
      "text/plain": [
       "Rooms            True\n",
       "Price            True\n",
       "Distance         True\n",
       "Postcode         True\n",
       "Bedroom2         True\n",
       "Bathroom         True\n",
       "Car              True\n",
       "Landsize         True\n",
       "BuildingArea     True\n",
       "YearBuilt        True\n",
       "Lattitude        True\n",
       "Longtitude       True\n",
       "Propertycount    True\n",
       "dtype: bool"
      ]
     },
     "execution_count": 13,
     "metadata": {},
     "output_type": "execute_result"
    }
   ],
   "source": [
    "training_set.select_dtypes(['float64','int64']).isnull().any()"
   ]
  },
  {
   "cell_type": "markdown",
   "metadata": {},
   "source": [
    "#### Check if categorical/text columns have got nulls. \n",
    "  * \"CouncilArea\", \"Regionname\" have got nulls. These two reatures are related to \"Address\". I am thinking if we can use \"Postcode\" feature to represent all there."
   ]
  },
  {
   "cell_type": "code",
   "execution_count": 14,
   "metadata": {},
   "outputs": [
    {
     "data": {
      "text/plain": [
       "Suburb         True\n",
       "Address        True\n",
       "Type           True\n",
       "Method         True\n",
       "SellerG        True\n",
       "Date           True\n",
       "CouncilArea    True\n",
       "Regionname     True\n",
       "dtype: bool"
      ]
     },
     "execution_count": 14,
     "metadata": {},
     "output_type": "execute_result"
    }
   ],
   "source": [
    "training_set.select_dtypes(['object']).isnull().any()"
   ]
  },
  {
   "cell_type": "markdown",
   "metadata": {},
   "source": [
    "### Big Decision (importance of Statistical Data Analysis - Bivariate data analysis):\n",
    "  #### Should we remove \"CouncilArea\", \"Regionname\", \"Lattitude\", and \"Longtitude\" features and have \"Postcode\"(after fixing nulls) as it may represent the address - in other workds, is \"Postcode\" an important feature in predicting \"Price\" ?\n",
    "    * Before we make a decision we have to fix some problems with \"Postcode\" column by do some statistical data analysis\n",
    "\n",
    "#### Step 1: Check how many records with \"Postcode\" nulls.\n",
    "#### Step 2: Check \"Postcode\" equal for all the addresses in same \"Suburb\" (a column with no-nulls). If so, we can write some logic to populate \"Postcode\" based on \"Suburb\".\n",
    "#### Step 3: Is postal code an important feature to predict \"Price\" ?."
   ]
  },
  {
   "cell_type": "code",
   "execution_count": 15,
   "metadata": {
    "collapsed": true
   },
   "outputs": [],
   "source": [
    "df_null_postcodes = training_set[training_set['Postcode'].isnull()]"
   ]
  },
  {
   "cell_type": "code",
   "execution_count": 16,
   "metadata": {},
   "outputs": [
    {
     "data": {
      "text/plain": [
       "(4772, 21)"
      ]
     },
     "execution_count": 16,
     "metadata": {},
     "output_type": "execute_result"
    }
   ],
   "source": [
    "df_null_postcodes.shape"
   ]
  },
  {
   "cell_type": "markdown",
   "metadata": {},
   "source": [
    "#### Check if any row with non-null \"Suburb\" is present for row in \"Postcode\""
   ]
  },
  {
   "cell_type": "code",
   "execution_count": 17,
   "metadata": {},
   "outputs": [
    {
     "data": {
      "text/html": [
       "<div>\n",
       "<style>\n",
       "    .dataframe thead tr:only-child th {\n",
       "        text-align: right;\n",
       "    }\n",
       "\n",
       "    .dataframe thead th {\n",
       "        text-align: left;\n",
       "    }\n",
       "\n",
       "    .dataframe tbody tr th {\n",
       "        vertical-align: top;\n",
       "    }\n",
       "</style>\n",
       "<table border=\"1\" class=\"dataframe\">\n",
       "  <thead>\n",
       "    <tr style=\"text-align: right;\">\n",
       "      <th></th>\n",
       "      <th>Suburb</th>\n",
       "      <th>Address</th>\n",
       "      <th>Rooms</th>\n",
       "      <th>Type</th>\n",
       "      <th>Price</th>\n",
       "      <th>Method</th>\n",
       "      <th>SellerG</th>\n",
       "      <th>Date</th>\n",
       "      <th>Distance</th>\n",
       "      <th>Postcode</th>\n",
       "      <th>...</th>\n",
       "      <th>Bathroom</th>\n",
       "      <th>Car</th>\n",
       "      <th>Landsize</th>\n",
       "      <th>BuildingArea</th>\n",
       "      <th>YearBuilt</th>\n",
       "      <th>CouncilArea</th>\n",
       "      <th>Lattitude</th>\n",
       "      <th>Longtitude</th>\n",
       "      <th>Regionname</th>\n",
       "      <th>Propertycount</th>\n",
       "    </tr>\n",
       "  </thead>\n",
       "  <tbody>\n",
       "  </tbody>\n",
       "</table>\n",
       "<p>0 rows × 21 columns</p>\n",
       "</div>"
      ],
      "text/plain": [
       "Empty DataFrame\n",
       "Columns: [Suburb, Address, Rooms, Type, Price, Method, SellerG, Date, Distance, Postcode, Bedroom2, Bathroom, Car, Landsize, BuildingArea, YearBuilt, CouncilArea, Lattitude, Longtitude, Regionname, Propertycount]\n",
       "Index: []\n",
       "\n",
       "[0 rows x 21 columns]"
      ]
     },
     "execution_count": 17,
     "metadata": {},
     "output_type": "execute_result"
    }
   ],
   "source": [
    "df_null_postcodes[~ df_null_postcodes['Suburb'].isnull()]"
   ]
  },
  {
   "cell_type": "markdown",
   "metadata": {},
   "source": [
    "#### Check if distict \"Suburb\" have distict \"Postcode\" "
   ]
  },
  {
   "cell_type": "code",
   "execution_count": 18,
   "metadata": {
    "collapsed": true
   },
   "outputs": [],
   "source": [
    "df_non_null_postcodes = training_set[~ training_set['Postcode'].isnull()]"
   ]
  },
  {
   "cell_type": "code",
   "execution_count": 19,
   "metadata": {},
   "outputs": [
    {
     "data": {
      "text/plain": [
       "(329,)"
      ]
     },
     "execution_count": 19,
     "metadata": {},
     "output_type": "execute_result"
    }
   ],
   "source": [
    "df_non_null_postcodes.groupby(['Suburb','Postcode']).size().shape"
   ]
  },
  {
   "cell_type": "code",
   "execution_count": 20,
   "metadata": {
    "collapsed": true
   },
   "outputs": [],
   "source": [
    "diction = dict(df_non_null_postcodes.groupby(['Suburb','Postcode']).size().index)"
   ]
  },
  {
   "cell_type": "code",
   "execution_count": 21,
   "metadata": {},
   "outputs": [
    {
     "data": {
      "text/plain": [
       "329"
      ]
     },
     "execution_count": 21,
     "metadata": {},
     "output_type": "execute_result"
    }
   ],
   "source": [
    "len(diction)"
   ]
  },
  {
   "cell_type": "markdown",
   "metadata": {},
   "source": [
    "#### * There both \"Postcode\", \"Suburb\" are null for all records hence remove the records."
   ]
  },
  {
   "cell_type": "code",
   "execution_count": 22,
   "metadata": {},
   "outputs": [
    {
     "data": {
      "text/plain": [
       "Int64Index([ 1833, 19795, 22210,  3233, 23980,  1026,  1174, 12291,  1197,\n",
       "            19854,\n",
       "            ...\n",
       "              189, 26382, 25551,  6396, 19769, 17568,  5311, 23333,  6265,\n",
       "            15795],\n",
       "           dtype='int64', length=4772)"
      ]
     },
     "execution_count": 22,
     "metadata": {},
     "output_type": "execute_result"
    }
   ],
   "source": [
    "training_set[training_set['Postcode'].isnull()].index"
   ]
  },
  {
   "cell_type": "code",
   "execution_count": 23,
   "metadata": {
    "collapsed": true
   },
   "outputs": [],
   "source": [
    "training_set = training_set.drop(training_set[training_set['Postcode'].isnull()].index)"
   ]
  },
  {
   "cell_type": "markdown",
   "metadata": {},
   "source": [
    "#### Is Postalcode an important feature in predicting Price ?"
   ]
  },
  {
   "cell_type": "code",
   "execution_count": 24,
   "metadata": {},
   "outputs": [
    {
     "data": {
      "image/png": "[encoded data removed]",
      "text/plain": [
       "<matplotlib.figure.Figure at 0x15b2b6e38d0>"
      ]
     },
     "metadata": {},
     "output_type": "display_data"
    }
   ],
   "source": [
    "gr = sns.factorplot(data=training_set, x=\"Postcode\", y=\"Price\", kind=\"bar\", ci=None,size=10, aspect=5)\n",
    "plt.xlabel(\"Postcode\")\n",
    "plt.ylabel(\"Average Price\")\n",
    "l1 = gr.set_yticklabels(rotation = 45)\n",
    "l2 = gr.set_xticklabels(rotation = 45)"
   ]
  },
  {
   "cell_type": "markdown",
   "metadata": {},
   "source": [
    "#### Drop  \"CouncilArea\", \"Regionname\", \"Lattitude\", \"Suburb\", \"Longtitude\""
   ]
  },
  {
   "cell_type": "code",
   "execution_count": 25,
   "metadata": {
    "collapsed": true
   },
   "outputs": [],
   "source": [
    "training_set.drop([\"Address\", \"CouncilArea\", \"Regionname\", \"Lattitude\", \"Suburb\", \"Longtitude\"], axis=1, inplace=True)"
   ]
  },
  {
   "cell_type": "code",
   "execution_count": 26,
   "metadata": {},
   "outputs": [
    {
     "data": {
      "text/plain": [
       "Index(['Rooms', 'Type', 'Price', 'Method', 'SellerG', 'Date', 'Distance',\n",
       "       'Postcode', 'Bedroom2', 'Bathroom', 'Car', 'Landsize', 'BuildingArea',\n",
       "       'YearBuilt', 'Propertycount'],\n",
       "      dtype='object')"
      ]
     },
     "execution_count": 26,
     "metadata": {},
     "output_type": "execute_result"
    }
   ],
   "source": [
    "training_set.columns"
   ]
  },
  {
   "cell_type": "code",
   "execution_count": 27,
   "metadata": {},
   "outputs": [
    {
     "data": {
      "text/html": [
       "<div>\n",
       "<style>\n",
       "    .dataframe thead tr:only-child th {\n",
       "        text-align: right;\n",
       "    }\n",
       "\n",
       "    .dataframe thead th {\n",
       "        text-align: left;\n",
       "    }\n",
       "\n",
       "    .dataframe tbody tr th {\n",
       "        vertical-align: top;\n",
       "    }\n",
       "</style>\n",
       "<table border=\"1\" class=\"dataframe\">\n",
       "  <thead>\n",
       "    <tr style=\"text-align: right;\">\n",
       "      <th></th>\n",
       "      <th>Rooms</th>\n",
       "      <th>Type</th>\n",
       "      <th>Price</th>\n",
       "      <th>Method</th>\n",
       "      <th>SellerG</th>\n",
       "      <th>Date</th>\n",
       "      <th>Distance</th>\n",
       "      <th>Postcode</th>\n",
       "      <th>Bedroom2</th>\n",
       "      <th>Bathroom</th>\n",
       "      <th>Car</th>\n",
       "      <th>Landsize</th>\n",
       "      <th>BuildingArea</th>\n",
       "      <th>YearBuilt</th>\n",
       "      <th>Propertycount</th>\n",
       "    </tr>\n",
       "  </thead>\n",
       "  <tbody>\n",
       "    <tr>\n",
       "      <th>17957</th>\n",
       "      <td>3.0</td>\n",
       "      <td>h</td>\n",
       "      <td>1370000.0</td>\n",
       "      <td>S</td>\n",
       "      <td>Gary</td>\n",
       "      <td>12/08/2017</td>\n",
       "      <td>10.1</td>\n",
       "      <td>3163.0</td>\n",
       "      <td>3.0</td>\n",
       "      <td>1.0</td>\n",
       "      <td>2.0</td>\n",
       "      <td>485.0</td>\n",
       "      <td>NaN</td>\n",
       "      <td>NaN</td>\n",
       "      <td>7822.0</td>\n",
       "    </tr>\n",
       "    <tr>\n",
       "      <th>6753</th>\n",
       "      <td>3.0</td>\n",
       "      <td>h</td>\n",
       "      <td>2956000.0</td>\n",
       "      <td>S</td>\n",
       "      <td>Marshall</td>\n",
       "      <td>4/03/2017</td>\n",
       "      <td>4.1</td>\n",
       "      <td>3206.0</td>\n",
       "      <td>3.0</td>\n",
       "      <td>2.0</td>\n",
       "      <td>0.0</td>\n",
       "      <td>300.0</td>\n",
       "      <td>NaN</td>\n",
       "      <td>NaN</td>\n",
       "      <td>2019.0</td>\n",
       "    </tr>\n",
       "    <tr>\n",
       "      <th>17054</th>\n",
       "      <td>3.0</td>\n",
       "      <td>h</td>\n",
       "      <td>1250000.0</td>\n",
       "      <td>VB</td>\n",
       "      <td>hockingstuart</td>\n",
       "      <td>27/05/2017</td>\n",
       "      <td>12.3</td>\n",
       "      <td>3166.0</td>\n",
       "      <td>3.0</td>\n",
       "      <td>1.0</td>\n",
       "      <td>2.0</td>\n",
       "      <td>603.0</td>\n",
       "      <td>NaN</td>\n",
       "      <td>NaN</td>\n",
       "      <td>3145.0</td>\n",
       "    </tr>\n",
       "    <tr>\n",
       "      <th>19340</th>\n",
       "      <td>2.0</td>\n",
       "      <td>u</td>\n",
       "      <td>682000.0</td>\n",
       "      <td>S</td>\n",
       "      <td>Jellis</td>\n",
       "      <td>29/07/2017</td>\n",
       "      <td>7.7</td>\n",
       "      <td>3124.0</td>\n",
       "      <td>2.0</td>\n",
       "      <td>1.0</td>\n",
       "      <td>1.0</td>\n",
       "      <td>1106.0</td>\n",
       "      <td>NaN</td>\n",
       "      <td>1970.0</td>\n",
       "      <td>8920.0</td>\n",
       "    </tr>\n",
       "    <tr>\n",
       "      <th>14883</th>\n",
       "      <td>3.0</td>\n",
       "      <td>h</td>\n",
       "      <td>740000.0</td>\n",
       "      <td>S</td>\n",
       "      <td>Ray</td>\n",
       "      <td>3/06/2017</td>\n",
       "      <td>17.9</td>\n",
       "      <td>3192.0</td>\n",
       "      <td>NaN</td>\n",
       "      <td>NaN</td>\n",
       "      <td>NaN</td>\n",
       "      <td>NaN</td>\n",
       "      <td>NaN</td>\n",
       "      <td>NaN</td>\n",
       "      <td>9758.0</td>\n",
       "    </tr>\n",
       "  </tbody>\n",
       "</table>\n",
       "</div>"
      ],
      "text/plain": [
       "       Rooms Type      Price Method        SellerG        Date  Distance  \\\n",
       "17957    3.0    h  1370000.0      S           Gary  12/08/2017      10.1   \n",
       "6753     3.0    h  2956000.0      S       Marshall   4/03/2017       4.1   \n",
       "17054    3.0    h  1250000.0     VB  hockingstuart  27/05/2017      12.3   \n",
       "19340    2.0    u   682000.0      S         Jellis  29/07/2017       7.7   \n",
       "14883    3.0    h   740000.0      S            Ray   3/06/2017      17.9   \n",
       "\n",
       "       Postcode  Bedroom2  Bathroom  Car  Landsize  BuildingArea  YearBuilt  \\\n",
       "17957    3163.0       3.0       1.0  2.0     485.0           NaN        NaN   \n",
       "6753     3206.0       3.0       2.0  0.0     300.0           NaN        NaN   \n",
       "17054    3166.0       3.0       1.0  2.0     603.0           NaN        NaN   \n",
       "19340    3124.0       2.0       1.0  1.0    1106.0           NaN     1970.0   \n",
       "14883    3192.0       NaN       NaN  NaN       NaN           NaN        NaN   \n",
       "\n",
       "       Propertycount  \n",
       "17957         7822.0  \n",
       "6753          2019.0  \n",
       "17054         3145.0  \n",
       "19340         8920.0  \n",
       "14883         9758.0  "
      ]
     },
     "execution_count": 27,
     "metadata": {},
     "output_type": "execute_result"
    }
   ],
   "source": [
    "training_set.head()"
   ]
  },
  {
   "cell_type": "code",
   "execution_count": 28,
   "metadata": {},
   "outputs": [
    {
     "data": {
      "text/plain": [
       "Type       False\n",
       "Method     False\n",
       "SellerG    False\n",
       "Date       False\n",
       "dtype: bool"
      ]
     },
     "execution_count": 28,
     "metadata": {},
     "output_type": "execute_result"
    }
   ],
   "source": [
    "training_set.select_dtypes(['object']).isnull().any()"
   ]
  },
  {
   "cell_type": "markdown",
   "metadata": {},
   "source": [
    "#### Date field has got date in string format, I think it is good to extract sold year as we have YearBuilt in the dataset"
   ]
  },
  {
   "cell_type": "code",
   "execution_count": 29,
   "metadata": {
    "collapsed": true
   },
   "outputs": [],
   "source": [
    "training_set.Date = pd.to_datetime(training_set.Date)"
   ]
  },
  {
   "cell_type": "code",
   "execution_count": 30,
   "metadata": {
    "collapsed": true
   },
   "outputs": [],
   "source": [
    "training_set[\"sold_year\"] = training_set.Date.apply(lambda x: x.year)"
   ]
  },
  {
   "cell_type": "code",
   "execution_count": 31,
   "metadata": {
    "collapsed": true
   },
   "outputs": [],
   "source": [
    "training_set.drop(\"Date\", axis=1, inplace=True)"
   ]
  },
  {
   "cell_type": "markdown",
   "metadata": {},
   "source": [
    "### EDA (Statistical data analysis) of numerical columns and fixing problems."
   ]
  },
  {
   "cell_type": "code",
   "execution_count": 32,
   "metadata": {
    "scrolled": true
   },
   "outputs": [
    {
     "data": {
      "text/plain": [
       "Rooms            False\n",
       "Price            False\n",
       "Distance         False\n",
       "Postcode         False\n",
       "Bedroom2          True\n",
       "Bathroom          True\n",
       "Car               True\n",
       "Landsize          True\n",
       "BuildingArea      True\n",
       "YearBuilt         True\n",
       "Propertycount    False\n",
       "sold_year        False\n",
       "dtype: bool"
      ]
     },
     "execution_count": 32,
     "metadata": {},
     "output_type": "execute_result"
    }
   ],
   "source": [
    "training_set.select_dtypes(['float64','int64']).isnull().any()"
   ]
  },
  {
   "cell_type": "markdown",
   "metadata": {},
   "source": [
    "# --------------------------------------------------------------------"
   ]
  },
  {
   "cell_type": "code",
   "execution_count": 33,
   "metadata": {},
   "outputs": [
    {
     "data": {
      "text/plain": [
       "(3465, 15)"
      ]
     },
     "execution_count": 33,
     "metadata": {},
     "output_type": "execute_result"
    }
   ],
   "source": [
    "training_set[training_set.Bedroom2.isnull()].shape"
   ]
  },
  {
   "cell_type": "code",
   "execution_count": 34,
   "metadata": {},
   "outputs": [
    {
     "data": {
      "text/plain": [
       "<matplotlib.axes._subplots.AxesSubplot at 0x15b2d3bd4a8>"
      ]
     },
     "execution_count": 34,
     "metadata": {},
     "output_type": "execute_result"
    },
    {
     "data": {
      "image/png": "[encoded data removed]",
      "text/plain": [
       "<matplotlib.figure.Figure at 0x15b2be3d8d0>"
      ]
     },
     "metadata": {},
     "output_type": "display_data"
    }
   ],
   "source": [
    "training_set.Bedroom2.hist(bins=20)"
   ]
  },
  {
   "cell_type": "code",
   "execution_count": 35,
   "metadata": {
    "collapsed": true
   },
   "outputs": [],
   "source": [
    "training_set.Bedroom2.fillna(value=training_set.Bedroom2.mean(), inplace=True)"
   ]
  },
  {
   "cell_type": "markdown",
   "metadata": {},
   "source": [
    "# --------------------------------------------------------------------"
   ]
  },
  {
   "cell_type": "code",
   "execution_count": 36,
   "metadata": {},
   "outputs": [
    {
     "data": {
      "text/plain": [
       "(3468, 15)"
      ]
     },
     "execution_count": 36,
     "metadata": {},
     "output_type": "execute_result"
    }
   ],
   "source": [
    "training_set[training_set.Bathroom.isnull()].shape"
   ]
  },
  {
   "cell_type": "code",
   "execution_count": 37,
   "metadata": {},
   "outputs": [
    {
     "data": {
      "text/plain": [
       "<matplotlib.axes._subplots.AxesSubplot at 0x15b2c37c6a0>"
      ]
     },
     "execution_count": 37,
     "metadata": {},
     "output_type": "execute_result"
    },
    {
     "data": {
      "image/png": "[encoded data removed]",
      "text/plain": [
       "<matplotlib.figure.Figure at 0x15b2b85fb00>"
      ]
     },
     "metadata": {},
     "output_type": "display_data"
    }
   ],
   "source": [
    "training_set.Bathroom.hist(bins=10)"
   ]
  },
  {
   "cell_type": "code",
   "execution_count": 38,
   "metadata": {},
   "outputs": [
    {
     "data": {
      "text/plain": [
       "0    1.0\n",
       "dtype: float64"
      ]
     },
     "execution_count": 38,
     "metadata": {},
     "output_type": "execute_result"
    }
   ],
   "source": [
    "training_set.Bathroom.mode()"
   ]
  },
  {
   "cell_type": "code",
   "execution_count": 39,
   "metadata": {
    "collapsed": true
   },
   "outputs": [],
   "source": [
    "training_set.Bathroom.fillna(value=training_set.Bathroom.mode(), inplace=True)"
   ]
  },
  {
   "cell_type": "markdown",
   "metadata": {
    "collapsed": true
   },
   "source": [
    "# --------------------------------------------------------------------"
   ]
  },
  {
   "cell_type": "code",
   "execution_count": 40,
   "metadata": {},
   "outputs": [
    {
     "data": {
      "text/plain": [
       "(3616, 15)"
      ]
     },
     "execution_count": 40,
     "metadata": {},
     "output_type": "execute_result"
    }
   ],
   "source": [
    "training_set[training_set.Car.isnull()].shape"
   ]
  },
  {
   "cell_type": "code",
   "execution_count": 41,
   "metadata": {},
   "outputs": [
    {
     "data": {
      "text/plain": [
       "<matplotlib.axes._subplots.AxesSubplot at 0x15b2b85c668>"
      ]
     },
     "execution_count": 41,
     "metadata": {},
     "output_type": "execute_result"
    },
    {
     "data": {
      "image/png": "[encoded data removed]",
      "text/plain": [
       "<matplotlib.figure.Figure at 0x15b2b8dd940>"
      ]
     },
     "metadata": {},
     "output_type": "display_data"
    }
   ],
   "source": [
    "training_set.Car.hist(bins=10)"
   ]
  },
  {
   "cell_type": "code",
   "execution_count": 42,
   "metadata": {
    "collapsed": true
   },
   "outputs": [],
   "source": [
    "training_set.Car.fillna(value=training_set.Car.median(), inplace=True)"
   ]
  },
  {
   "cell_type": "markdown",
   "metadata": {},
   "source": [
    "# --------------------------------------------------------------------"
   ]
  },
  {
   "cell_type": "code",
   "execution_count": 43,
   "metadata": {},
   "outputs": [
    {
     "data": {
      "text/plain": [
       "(5166, 15)"
      ]
     },
     "execution_count": 43,
     "metadata": {},
     "output_type": "execute_result"
    }
   ],
   "source": [
    "training_set[training_set.Landsize.isnull()].shape"
   ]
  },
  {
   "cell_type": "code",
   "execution_count": 44,
   "metadata": {},
   "outputs": [
    {
     "data": {
      "text/plain": [
       "<matplotlib.axes._subplots.AxesSubplot at 0x15b2b8e2048>"
      ]
     },
     "execution_count": 44,
     "metadata": {},
     "output_type": "execute_result"
    },
    {
     "data": {
      "image/png": "[encoded data removed]",
      "text/plain": [
       "<matplotlib.figure.Figure at 0x15b2b93da20>"
      ]
     },
     "metadata": {},
     "output_type": "display_data"
    }
   ],
   "source": [
    "training_set.Landsize.hist(bins=20)"
   ]
  },
  {
   "cell_type": "code",
   "execution_count": 45,
   "metadata": {},
   "outputs": [
    {
     "data": {
      "text/plain": [
       "count     11859.000000\n",
       "mean        595.647188\n",
       "std        4519.336354\n",
       "min           0.000000\n",
       "25%         192.000000\n",
       "50%         466.000000\n",
       "75%         656.000000\n",
       "max      433014.000000\n",
       "Name: Landsize, dtype: float64"
      ]
     },
     "execution_count": 45,
     "metadata": {},
     "output_type": "execute_result"
    }
   ],
   "source": [
    "training_set.Landsize.describe()"
   ]
  },
  {
   "cell_type": "code",
   "execution_count": 46,
   "metadata": {},
   "outputs": [
    {
     "data": {
      "text/plain": [
       "(1528, 15)"
      ]
     },
     "execution_count": 46,
     "metadata": {},
     "output_type": "execute_result"
    }
   ],
   "source": [
    "training_set[training_set.Landsize == 0].shape"
   ]
  },
  {
   "cell_type": "code",
   "execution_count": 47,
   "metadata": {},
   "outputs": [
    {
     "data": {
      "text/plain": [
       "(2819, 15)"
      ]
     },
     "execution_count": 47,
     "metadata": {},
     "output_type": "execute_result"
    }
   ],
   "source": [
    "training_set[training_set.Landsize > 656].shape"
   ]
  },
  {
   "cell_type": "code",
   "execution_count": 48,
   "metadata": {},
   "outputs": [
    {
     "data": {
      "text/plain": [
       "(3357, 15)"
      ]
     },
     "execution_count": 48,
     "metadata": {},
     "output_type": "execute_result"
    }
   ],
   "source": [
    "training_set[training_set.Landsize < 219].shape"
   ]
  },
  {
   "cell_type": "code",
   "execution_count": 49,
   "metadata": {},
   "outputs": [
    {
     "data": {
      "text/plain": [
       "(0, 15)"
      ]
     },
     "execution_count": 49,
     "metadata": {},
     "output_type": "execute_result"
    }
   ],
   "source": [
    "training_set[training_set.Landsize < 0].shape"
   ]
  },
  {
   "cell_type": "code",
   "execution_count": 50,
   "metadata": {},
   "outputs": [
    {
     "data": {
      "text/plain": [
       "(10331, 15)"
      ]
     },
     "execution_count": 50,
     "metadata": {},
     "output_type": "execute_result"
    }
   ],
   "source": [
    "training_set[~training_set.Landsize.isnull() & training_set.Landsize > 0].shape"
   ]
  },
  {
   "cell_type": "code",
   "execution_count": 51,
   "metadata": {
    "collapsed": true
   },
   "outputs": [],
   "source": [
    "training_set[\"Landsize_log\"] = np.log(training_set[~training_set.Landsize.isnull() & training_set.Landsize > 0]['Landsize'])"
   ]
  },
  {
   "cell_type": "code",
   "execution_count": 52,
   "metadata": {},
   "outputs": [
    {
     "data": {
      "text/plain": [
       "count    10331.000000\n",
       "mean         6.096866\n",
       "std          0.736103\n",
       "min          0.000000\n",
       "25%          5.638355\n",
       "50%          6.291569\n",
       "75%          6.522093\n",
       "max         12.978525\n",
       "Name: Landsize_log, dtype: float64"
      ]
     },
     "execution_count": 52,
     "metadata": {},
     "output_type": "execute_result"
    }
   ],
   "source": [
    "training_set[\"Landsize_log\"].describe()"
   ]
  },
  {
   "cell_type": "code",
   "execution_count": 53,
   "metadata": {},
   "outputs": [
    {
     "data": {
      "text/plain": [
       "<matplotlib.axes._subplots.AxesSubplot at 0x15b2d81eba8>"
      ]
     },
     "execution_count": 53,
     "metadata": {},
     "output_type": "execute_result"
    },
    {
     "data": {
      "image/png": "[encoded data removed]",
      "text/plain": [
       "<matplotlib.figure.Figure at 0x15b2d2b9c50>"
      ]
     },
     "metadata": {},
     "output_type": "display_data"
    }
   ],
   "source": [
    "training_set[\"Landsize_log\"].hist(bins=15)"
   ]
  },
  {
   "cell_type": "code",
   "execution_count": 54,
   "metadata": {
    "collapsed": true
   },
   "outputs": [],
   "source": [
    "Landsize_log_mean = training_set[\"Landsize_log\"].mean()\n",
    "training_set[\"Landsize_log\"].fillna(value=Landsize_log_mean, inplace=True)\n",
    "training_set[\"Landsize_log\"] = training_set[\"Landsize_log\"].apply(lambda x: Landsize_log_mean if x == 0 else x) "
   ]
  },
  {
   "cell_type": "code",
   "execution_count": 55,
   "metadata": {
    "collapsed": true
   },
   "outputs": [],
   "source": [
    "training_set.drop('Landsize', axis=1, inplace=True)"
   ]
  },
  {
   "cell_type": "markdown",
   "metadata": {},
   "source": [
    "# --------------------------------------------------------------------"
   ]
  },
  {
   "cell_type": "code",
   "execution_count": 56,
   "metadata": {},
   "outputs": [
    {
     "data": {
      "text/html": [
       "<div>\n",
       "<style>\n",
       "    .dataframe thead tr:only-child th {\n",
       "        text-align: right;\n",
       "    }\n",
       "\n",
       "    .dataframe thead th {\n",
       "        text-align: left;\n",
       "    }\n",
       "\n",
       "    .dataframe tbody tr th {\n",
       "        vertical-align: top;\n",
       "    }\n",
       "</style>\n",
       "<table border=\"1\" class=\"dataframe\">\n",
       "  <thead>\n",
       "    <tr style=\"text-align: right;\">\n",
       "      <th></th>\n",
       "      <th>Rooms</th>\n",
       "      <th>Type</th>\n",
       "      <th>Price</th>\n",
       "      <th>Method</th>\n",
       "      <th>SellerG</th>\n",
       "      <th>Distance</th>\n",
       "      <th>Postcode</th>\n",
       "      <th>Bedroom2</th>\n",
       "      <th>Bathroom</th>\n",
       "      <th>Car</th>\n",
       "      <th>BuildingArea</th>\n",
       "      <th>YearBuilt</th>\n",
       "      <th>Propertycount</th>\n",
       "      <th>sold_year</th>\n",
       "      <th>Landsize_log</th>\n",
       "    </tr>\n",
       "  </thead>\n",
       "  <tbody>\n",
       "    <tr>\n",
       "      <th>17957</th>\n",
       "      <td>3.0</td>\n",
       "      <td>h</td>\n",
       "      <td>1370000.0</td>\n",
       "      <td>S</td>\n",
       "      <td>Gary</td>\n",
       "      <td>10.1</td>\n",
       "      <td>3163.0</td>\n",
       "      <td>3.000000</td>\n",
       "      <td>1.00000</td>\n",
       "      <td>2.0</td>\n",
       "      <td>148.560832</td>\n",
       "      <td>1966.468169</td>\n",
       "      <td>7822.0</td>\n",
       "      <td>2017</td>\n",
       "      <td>6.184149</td>\n",
       "    </tr>\n",
       "    <tr>\n",
       "      <th>6753</th>\n",
       "      <td>3.0</td>\n",
       "      <td>h</td>\n",
       "      <td>2956000.0</td>\n",
       "      <td>S</td>\n",
       "      <td>Marshall</td>\n",
       "      <td>4.1</td>\n",
       "      <td>3206.0</td>\n",
       "      <td>3.000000</td>\n",
       "      <td>2.00000</td>\n",
       "      <td>0.0</td>\n",
       "      <td>148.560832</td>\n",
       "      <td>1966.468169</td>\n",
       "      <td>2019.0</td>\n",
       "      <td>2017</td>\n",
       "      <td>5.703782</td>\n",
       "    </tr>\n",
       "    <tr>\n",
       "      <th>17054</th>\n",
       "      <td>3.0</td>\n",
       "      <td>h</td>\n",
       "      <td>1250000.0</td>\n",
       "      <td>VB</td>\n",
       "      <td>hockingstuart</td>\n",
       "      <td>12.3</td>\n",
       "      <td>3166.0</td>\n",
       "      <td>3.000000</td>\n",
       "      <td>1.00000</td>\n",
       "      <td>2.0</td>\n",
       "      <td>148.560832</td>\n",
       "      <td>1966.468169</td>\n",
       "      <td>3145.0</td>\n",
       "      <td>2017</td>\n",
       "      <td>6.401917</td>\n",
       "    </tr>\n",
       "    <tr>\n",
       "      <th>19340</th>\n",
       "      <td>2.0</td>\n",
       "      <td>u</td>\n",
       "      <td>682000.0</td>\n",
       "      <td>S</td>\n",
       "      <td>Jellis</td>\n",
       "      <td>7.7</td>\n",
       "      <td>3124.0</td>\n",
       "      <td>2.000000</td>\n",
       "      <td>1.00000</td>\n",
       "      <td>1.0</td>\n",
       "      <td>148.560832</td>\n",
       "      <td>1970.000000</td>\n",
       "      <td>8920.0</td>\n",
       "      <td>2017</td>\n",
       "      <td>7.008505</td>\n",
       "    </tr>\n",
       "    <tr>\n",
       "      <th>14883</th>\n",
       "      <td>3.0</td>\n",
       "      <td>h</td>\n",
       "      <td>740000.0</td>\n",
       "      <td>S</td>\n",
       "      <td>Ray</td>\n",
       "      <td>17.9</td>\n",
       "      <td>3192.0</td>\n",
       "      <td>2.973156</td>\n",
       "      <td>1.56244</td>\n",
       "      <td>2.0</td>\n",
       "      <td>148.560832</td>\n",
       "      <td>1966.468169</td>\n",
       "      <td>9758.0</td>\n",
       "      <td>2017</td>\n",
       "      <td>6.096866</td>\n",
       "    </tr>\n",
       "    <tr>\n",
       "      <th>21741</th>\n",
       "      <td>2.0</td>\n",
       "      <td>t</td>\n",
       "      <td>580000.0</td>\n",
       "      <td>PI</td>\n",
       "      <td>Jellis</td>\n",
       "      <td>5.2</td>\n",
       "      <td>3055.0</td>\n",
       "      <td>2.000000</td>\n",
       "      <td>1.00000</td>\n",
       "      <td>1.0</td>\n",
       "      <td>75.000000</td>\n",
       "      <td>2009.000000</td>\n",
       "      <td>7082.0</td>\n",
       "      <td>2017</td>\n",
       "      <td>6.096866</td>\n",
       "    </tr>\n",
       "    <tr>\n",
       "      <th>1472</th>\n",
       "      <td>4.0</td>\n",
       "      <td>h</td>\n",
       "      <td>1100000.0</td>\n",
       "      <td>S</td>\n",
       "      <td>Hodges</td>\n",
       "      <td>13.9</td>\n",
       "      <td>3165.0</td>\n",
       "      <td>4.000000</td>\n",
       "      <td>2.00000</td>\n",
       "      <td>1.0</td>\n",
       "      <td>190.000000</td>\n",
       "      <td>2004.000000</td>\n",
       "      <td>10969.0</td>\n",
       "      <td>2016</td>\n",
       "      <td>5.613128</td>\n",
       "    </tr>\n",
       "    <tr>\n",
       "      <th>18262</th>\n",
       "      <td>4.0</td>\n",
       "      <td>h</td>\n",
       "      <td>1200000.0</td>\n",
       "      <td>S</td>\n",
       "      <td>Nelson</td>\n",
       "      <td>12.0</td>\n",
       "      <td>3073.0</td>\n",
       "      <td>4.000000</td>\n",
       "      <td>2.00000</td>\n",
       "      <td>2.0</td>\n",
       "      <td>260.000000</td>\n",
       "      <td>1940.000000</td>\n",
       "      <td>21650.0</td>\n",
       "      <td>2017</td>\n",
       "      <td>6.212606</td>\n",
       "    </tr>\n",
       "    <tr>\n",
       "      <th>3559</th>\n",
       "      <td>2.0</td>\n",
       "      <td>h</td>\n",
       "      <td>1265000.0</td>\n",
       "      <td>S</td>\n",
       "      <td>Jellis</td>\n",
       "      <td>1.6</td>\n",
       "      <td>3066.0</td>\n",
       "      <td>3.000000</td>\n",
       "      <td>1.00000</td>\n",
       "      <td>1.0</td>\n",
       "      <td>112.000000</td>\n",
       "      <td>1920.000000</td>\n",
       "      <td>4553.0</td>\n",
       "      <td>2016</td>\n",
       "      <td>5.641907</td>\n",
       "    </tr>\n",
       "    <tr>\n",
       "      <th>25549</th>\n",
       "      <td>3.0</td>\n",
       "      <td>h</td>\n",
       "      <td>1840000.0</td>\n",
       "      <td>PI</td>\n",
       "      <td>Jellis</td>\n",
       "      <td>7.9</td>\n",
       "      <td>3103.0</td>\n",
       "      <td>2.973156</td>\n",
       "      <td>1.56244</td>\n",
       "      <td>2.0</td>\n",
       "      <td>148.560832</td>\n",
       "      <td>1966.468169</td>\n",
       "      <td>5682.0</td>\n",
       "      <td>2017</td>\n",
       "      <td>6.096866</td>\n",
       "    </tr>\n",
       "    <tr>\n",
       "      <th>17242</th>\n",
       "      <td>2.0</td>\n",
       "      <td>u</td>\n",
       "      <td>660000.0</td>\n",
       "      <td>S</td>\n",
       "      <td>hockingstuart</td>\n",
       "      <td>4.6</td>\n",
       "      <td>3181.0</td>\n",
       "      <td>2.000000</td>\n",
       "      <td>1.00000</td>\n",
       "      <td>1.0</td>\n",
       "      <td>148.560832</td>\n",
       "      <td>1966.468169</td>\n",
       "      <td>7717.0</td>\n",
       "      <td>2017</td>\n",
       "      <td>6.096866</td>\n",
       "    </tr>\n",
       "    <tr>\n",
       "      <th>17455</th>\n",
       "      <td>3.0</td>\n",
       "      <td>h</td>\n",
       "      <td>386000.0</td>\n",
       "      <td>S</td>\n",
       "      <td>hockingstuart</td>\n",
       "      <td>14.0</td>\n",
       "      <td>3047.0</td>\n",
       "      <td>3.000000</td>\n",
       "      <td>1.00000</td>\n",
       "      <td>1.0</td>\n",
       "      <td>71.000000</td>\n",
       "      <td>1965.000000</td>\n",
       "      <td>4294.0</td>\n",
       "      <td>2017</td>\n",
       "      <td>5.831882</td>\n",
       "    </tr>\n",
       "    <tr>\n",
       "      <th>17591</th>\n",
       "      <td>3.0</td>\n",
       "      <td>h</td>\n",
       "      <td>575500.0</td>\n",
       "      <td>S</td>\n",
       "      <td>Miles</td>\n",
       "      <td>8.8</td>\n",
       "      <td>3081.0</td>\n",
       "      <td>3.000000</td>\n",
       "      <td>1.00000</td>\n",
       "      <td>1.0</td>\n",
       "      <td>148.560832</td>\n",
       "      <td>1966.468169</td>\n",
       "      <td>2674.0</td>\n",
       "      <td>2017</td>\n",
       "      <td>6.077642</td>\n",
       "    </tr>\n",
       "    <tr>\n",
       "      <th>18396</th>\n",
       "      <td>3.0</td>\n",
       "      <td>h</td>\n",
       "      <td>1306000.0</td>\n",
       "      <td>S</td>\n",
       "      <td>Jellis</td>\n",
       "      <td>4.3</td>\n",
       "      <td>3032.0</td>\n",
       "      <td>3.000000</td>\n",
       "      <td>1.00000</td>\n",
       "      <td>0.0</td>\n",
       "      <td>126.000000</td>\n",
       "      <td>1900.000000</td>\n",
       "      <td>6567.0</td>\n",
       "      <td>2017</td>\n",
       "      <td>5.293305</td>\n",
       "    </tr>\n",
       "    <tr>\n",
       "      <th>25892</th>\n",
       "      <td>3.0</td>\n",
       "      <td>u</td>\n",
       "      <td>686000.0</td>\n",
       "      <td>S</td>\n",
       "      <td>hockingstuart</td>\n",
       "      <td>27.0</td>\n",
       "      <td>3196.0</td>\n",
       "      <td>2.973156</td>\n",
       "      <td>1.56244</td>\n",
       "      <td>2.0</td>\n",
       "      <td>148.560832</td>\n",
       "      <td>1966.468169</td>\n",
       "      <td>2546.0</td>\n",
       "      <td>2017</td>\n",
       "      <td>6.096866</td>\n",
       "    </tr>\n",
       "    <tr>\n",
       "      <th>24952</th>\n",
       "      <td>4.0</td>\n",
       "      <td>h</td>\n",
       "      <td>2230000.0</td>\n",
       "      <td>PI</td>\n",
       "      <td>Jellis</td>\n",
       "      <td>7.7</td>\n",
       "      <td>3124.0</td>\n",
       "      <td>4.000000</td>\n",
       "      <td>2.00000</td>\n",
       "      <td>2.0</td>\n",
       "      <td>148.560832</td>\n",
       "      <td>1966.468169</td>\n",
       "      <td>8920.0</td>\n",
       "      <td>2017</td>\n",
       "      <td>6.096866</td>\n",
       "    </tr>\n",
       "    <tr>\n",
       "      <th>23609</th>\n",
       "      <td>1.0</td>\n",
       "      <td>u</td>\n",
       "      <td>390000.0</td>\n",
       "      <td>PI</td>\n",
       "      <td>McGrath</td>\n",
       "      <td>4.0</td>\n",
       "      <td>3057.0</td>\n",
       "      <td>2.973156</td>\n",
       "      <td>1.56244</td>\n",
       "      <td>2.0</td>\n",
       "      <td>148.560832</td>\n",
       "      <td>1966.468169</td>\n",
       "      <td>5533.0</td>\n",
       "      <td>2017</td>\n",
       "      <td>6.096866</td>\n",
       "    </tr>\n",
       "    <tr>\n",
       "      <th>7828</th>\n",
       "      <td>2.0</td>\n",
       "      <td>u</td>\n",
       "      <td>1035000.0</td>\n",
       "      <td>PI</td>\n",
       "      <td>RT</td>\n",
       "      <td>3.8</td>\n",
       "      <td>3207.0</td>\n",
       "      <td>2.000000</td>\n",
       "      <td>2.00000</td>\n",
       "      <td>1.0</td>\n",
       "      <td>148.560832</td>\n",
       "      <td>2003.000000</td>\n",
       "      <td>8648.0</td>\n",
       "      <td>2016</td>\n",
       "      <td>6.096866</td>\n",
       "    </tr>\n",
       "    <tr>\n",
       "      <th>6462</th>\n",
       "      <td>3.0</td>\n",
       "      <td>h</td>\n",
       "      <td>1750000.0</td>\n",
       "      <td>S</td>\n",
       "      <td>Marshall</td>\n",
       "      <td>11.2</td>\n",
       "      <td>3145.0</td>\n",
       "      <td>3.000000</td>\n",
       "      <td>1.00000</td>\n",
       "      <td>2.0</td>\n",
       "      <td>148.560832</td>\n",
       "      <td>1966.468169</td>\n",
       "      <td>8801.0</td>\n",
       "      <td>2016</td>\n",
       "      <td>6.331502</td>\n",
       "    </tr>\n",
       "    <tr>\n",
       "      <th>17239</th>\n",
       "      <td>2.0</td>\n",
       "      <td>h</td>\n",
       "      <td>780000.0</td>\n",
       "      <td>VB</td>\n",
       "      <td>Biggin</td>\n",
       "      <td>4.6</td>\n",
       "      <td>3181.0</td>\n",
       "      <td>2.000000</td>\n",
       "      <td>1.00000</td>\n",
       "      <td>0.0</td>\n",
       "      <td>48.000000</td>\n",
       "      <td>1900.000000</td>\n",
       "      <td>7717.0</td>\n",
       "      <td>2017</td>\n",
       "      <td>4.762174</td>\n",
       "    </tr>\n",
       "    <tr>\n",
       "      <th>21046</th>\n",
       "      <td>3.0</td>\n",
       "      <td>h</td>\n",
       "      <td>2770000.0</td>\n",
       "      <td>S</td>\n",
       "      <td>Marshall</td>\n",
       "      <td>7.7</td>\n",
       "      <td>3124.0</td>\n",
       "      <td>3.000000</td>\n",
       "      <td>2.00000</td>\n",
       "      <td>2.0</td>\n",
       "      <td>148.560832</td>\n",
       "      <td>1991.000000</td>\n",
       "      <td>8920.0</td>\n",
       "      <td>2017</td>\n",
       "      <td>6.385194</td>\n",
       "    </tr>\n",
       "    <tr>\n",
       "      <th>4577</th>\n",
       "      <td>4.0</td>\n",
       "      <td>h</td>\n",
       "      <td>1870000.0</td>\n",
       "      <td>S</td>\n",
       "      <td>Marshall</td>\n",
       "      <td>9.2</td>\n",
       "      <td>3146.0</td>\n",
       "      <td>2.973156</td>\n",
       "      <td>1.56244</td>\n",
       "      <td>2.0</td>\n",
       "      <td>148.560832</td>\n",
       "      <td>1966.468169</td>\n",
       "      <td>10412.0</td>\n",
       "      <td>2016</td>\n",
       "      <td>6.096866</td>\n",
       "    </tr>\n",
       "    <tr>\n",
       "      <th>10311</th>\n",
       "      <td>3.0</td>\n",
       "      <td>h</td>\n",
       "      <td>1190000.0</td>\n",
       "      <td>S</td>\n",
       "      <td>McGrath</td>\n",
       "      <td>6.5</td>\n",
       "      <td>3071.0</td>\n",
       "      <td>3.000000</td>\n",
       "      <td>1.00000</td>\n",
       "      <td>0.0</td>\n",
       "      <td>148.560832</td>\n",
       "      <td>1966.468169</td>\n",
       "      <td>8870.0</td>\n",
       "      <td>2017</td>\n",
       "      <td>6.096866</td>\n",
       "    </tr>\n",
       "    <tr>\n",
       "      <th>21434</th>\n",
       "      <td>5.0</td>\n",
       "      <td>h</td>\n",
       "      <td>955000.0</td>\n",
       "      <td>S</td>\n",
       "      <td>Nelson</td>\n",
       "      <td>11.2</td>\n",
       "      <td>3046.0</td>\n",
       "      <td>5.000000</td>\n",
       "      <td>2.00000</td>\n",
       "      <td>4.0</td>\n",
       "      <td>148.560832</td>\n",
       "      <td>1966.468169</td>\n",
       "      <td>2651.0</td>\n",
       "      <td>2017</td>\n",
       "      <td>6.731018</td>\n",
       "    </tr>\n",
       "    <tr>\n",
       "      <th>5771</th>\n",
       "      <td>2.0</td>\n",
       "      <td>t</td>\n",
       "      <td>650000.0</td>\n",
       "      <td>S</td>\n",
       "      <td>Nelson</td>\n",
       "      <td>4.2</td>\n",
       "      <td>3031.0</td>\n",
       "      <td>2.000000</td>\n",
       "      <td>1.00000</td>\n",
       "      <td>1.0</td>\n",
       "      <td>148.560832</td>\n",
       "      <td>1966.468169</td>\n",
       "      <td>5263.0</td>\n",
       "      <td>2016</td>\n",
       "      <td>4.369448</td>\n",
       "    </tr>\n",
       "    <tr>\n",
       "      <th>19273</th>\n",
       "      <td>3.0</td>\n",
       "      <td>h</td>\n",
       "      <td>770000.0</td>\n",
       "      <td>PI</td>\n",
       "      <td>Harcourts</td>\n",
       "      <td>9.5</td>\n",
       "      <td>3034.0</td>\n",
       "      <td>2.973156</td>\n",
       "      <td>1.56244</td>\n",
       "      <td>2.0</td>\n",
       "      <td>148.560832</td>\n",
       "      <td>1966.468169</td>\n",
       "      <td>4502.0</td>\n",
       "      <td>2017</td>\n",
       "      <td>6.096866</td>\n",
       "    </tr>\n",
       "    <tr>\n",
       "      <th>25302</th>\n",
       "      <td>3.0</td>\n",
       "      <td>h</td>\n",
       "      <td>1785000.0</td>\n",
       "      <td>S</td>\n",
       "      <td>Jellis</td>\n",
       "      <td>4.6</td>\n",
       "      <td>3181.0</td>\n",
       "      <td>3.000000</td>\n",
       "      <td>2.00000</td>\n",
       "      <td>2.0</td>\n",
       "      <td>155.000000</td>\n",
       "      <td>1920.000000</td>\n",
       "      <td>7717.0</td>\n",
       "      <td>2017</td>\n",
       "      <td>5.247024</td>\n",
       "    </tr>\n",
       "    <tr>\n",
       "      <th>22279</th>\n",
       "      <td>3.0</td>\n",
       "      <td>h</td>\n",
       "      <td>1325000.0</td>\n",
       "      <td>S</td>\n",
       "      <td>Jellis</td>\n",
       "      <td>5.2</td>\n",
       "      <td>3056.0</td>\n",
       "      <td>3.000000</td>\n",
       "      <td>1.00000</td>\n",
       "      <td>1.0</td>\n",
       "      <td>120.000000</td>\n",
       "      <td>1920.000000</td>\n",
       "      <td>11918.0</td>\n",
       "      <td>2017</td>\n",
       "      <td>5.802118</td>\n",
       "    </tr>\n",
       "    <tr>\n",
       "      <th>14413</th>\n",
       "      <td>3.0</td>\n",
       "      <td>h</td>\n",
       "      <td>662500.0</td>\n",
       "      <td>S</td>\n",
       "      <td>O'Brien</td>\n",
       "      <td>32.3</td>\n",
       "      <td>3803.0</td>\n",
       "      <td>3.000000</td>\n",
       "      <td>2.00000</td>\n",
       "      <td>2.0</td>\n",
       "      <td>148.560832</td>\n",
       "      <td>1966.468169</td>\n",
       "      <td>3728.0</td>\n",
       "      <td>2017</td>\n",
       "      <td>6.475433</td>\n",
       "    </tr>\n",
       "    <tr>\n",
       "      <th>9684</th>\n",
       "      <td>3.0</td>\n",
       "      <td>h</td>\n",
       "      <td>1025000.0</td>\n",
       "      <td>S</td>\n",
       "      <td>Considine</td>\n",
       "      <td>9.7</td>\n",
       "      <td>3041.0</td>\n",
       "      <td>3.000000</td>\n",
       "      <td>2.00000</td>\n",
       "      <td>1.0</td>\n",
       "      <td>180.000000</td>\n",
       "      <td>1950.000000</td>\n",
       "      <td>3284.0</td>\n",
       "      <td>2016</td>\n",
       "      <td>6.483107</td>\n",
       "    </tr>\n",
       "    <tr>\n",
       "      <th>...</th>\n",
       "      <td>...</td>\n",
       "      <td>...</td>\n",
       "      <td>...</td>\n",
       "      <td>...</td>\n",
       "      <td>...</td>\n",
       "      <td>...</td>\n",
       "      <td>...</td>\n",
       "      <td>...</td>\n",
       "      <td>...</td>\n",
       "      <td>...</td>\n",
       "      <td>...</td>\n",
       "      <td>...</td>\n",
       "      <td>...</td>\n",
       "      <td>...</td>\n",
       "      <td>...</td>\n",
       "    </tr>\n",
       "    <tr>\n",
       "      <th>21042</th>\n",
       "      <td>6.0</td>\n",
       "      <td>h</td>\n",
       "      <td>2835000.0</td>\n",
       "      <td>SP</td>\n",
       "      <td>Noel</td>\n",
       "      <td>7.7</td>\n",
       "      <td>3124.0</td>\n",
       "      <td>6.000000</td>\n",
       "      <td>3.00000</td>\n",
       "      <td>2.0</td>\n",
       "      <td>283.000000</td>\n",
       "      <td>1970.000000</td>\n",
       "      <td>8920.0</td>\n",
       "      <td>2017</td>\n",
       "      <td>6.677083</td>\n",
       "    </tr>\n",
       "    <tr>\n",
       "      <th>3005</th>\n",
       "      <td>2.0</td>\n",
       "      <td>u</td>\n",
       "      <td>650000.0</td>\n",
       "      <td>S</td>\n",
       "      <td>hockingstuart</td>\n",
       "      <td>11.4</td>\n",
       "      <td>3163.0</td>\n",
       "      <td>2.000000</td>\n",
       "      <td>1.00000</td>\n",
       "      <td>1.0</td>\n",
       "      <td>80.000000</td>\n",
       "      <td>1975.000000</td>\n",
       "      <td>7822.0</td>\n",
       "      <td>2016</td>\n",
       "      <td>5.159055</td>\n",
       "    </tr>\n",
       "    <tr>\n",
       "      <th>19118</th>\n",
       "      <td>1.0</td>\n",
       "      <td>u</td>\n",
       "      <td>250000.0</td>\n",
       "      <td>PI</td>\n",
       "      <td>hockingstuart</td>\n",
       "      <td>8.4</td>\n",
       "      <td>3072.0</td>\n",
       "      <td>1.000000</td>\n",
       "      <td>1.00000</td>\n",
       "      <td>1.0</td>\n",
       "      <td>34.000000</td>\n",
       "      <td>1965.000000</td>\n",
       "      <td>14577.0</td>\n",
       "      <td>2017</td>\n",
       "      <td>6.447306</td>\n",
       "    </tr>\n",
       "    <tr>\n",
       "      <th>2747</th>\n",
       "      <td>2.0</td>\n",
       "      <td>u</td>\n",
       "      <td>530000.0</td>\n",
       "      <td>PI</td>\n",
       "      <td>Fletchers</td>\n",
       "      <td>7.8</td>\n",
       "      <td>3124.0</td>\n",
       "      <td>2.000000</td>\n",
       "      <td>1.00000</td>\n",
       "      <td>1.0</td>\n",
       "      <td>148.560832</td>\n",
       "      <td>1966.468169</td>\n",
       "      <td>8920.0</td>\n",
       "      <td>2016</td>\n",
       "      <td>6.096866</td>\n",
       "    </tr>\n",
       "    <tr>\n",
       "      <th>18431</th>\n",
       "      <td>4.0</td>\n",
       "      <td>h</td>\n",
       "      <td>631000.0</td>\n",
       "      <td>S</td>\n",
       "      <td>YPA</td>\n",
       "      <td>14.0</td>\n",
       "      <td>3047.0</td>\n",
       "      <td>4.000000</td>\n",
       "      <td>2.00000</td>\n",
       "      <td>2.0</td>\n",
       "      <td>158.000000</td>\n",
       "      <td>1960.000000</td>\n",
       "      <td>4294.0</td>\n",
       "      <td>2017</td>\n",
       "      <td>6.545350</td>\n",
       "    </tr>\n",
       "    <tr>\n",
       "      <th>24233</th>\n",
       "      <td>3.0</td>\n",
       "      <td>h</td>\n",
       "      <td>785000.0</td>\n",
       "      <td>SP</td>\n",
       "      <td>Flannagan</td>\n",
       "      <td>16.1</td>\n",
       "      <td>3088.0</td>\n",
       "      <td>3.000000</td>\n",
       "      <td>1.00000</td>\n",
       "      <td>1.0</td>\n",
       "      <td>116.000000</td>\n",
       "      <td>1989.000000</td>\n",
       "      <td>1390.0</td>\n",
       "      <td>2017</td>\n",
       "      <td>6.670766</td>\n",
       "    </tr>\n",
       "    <tr>\n",
       "      <th>18942</th>\n",
       "      <td>1.0</td>\n",
       "      <td>u</td>\n",
       "      <td>895000.0</td>\n",
       "      <td>S</td>\n",
       "      <td>Kay</td>\n",
       "      <td>1.3</td>\n",
       "      <td>3002.0</td>\n",
       "      <td>1.000000</td>\n",
       "      <td>1.00000</td>\n",
       "      <td>1.0</td>\n",
       "      <td>60.000000</td>\n",
       "      <td>1990.000000</td>\n",
       "      <td>3040.0</td>\n",
       "      <td>2017</td>\n",
       "      <td>6.096866</td>\n",
       "    </tr>\n",
       "    <tr>\n",
       "      <th>25658</th>\n",
       "      <td>3.0</td>\n",
       "      <td>u</td>\n",
       "      <td>1050000.0</td>\n",
       "      <td>S</td>\n",
       "      <td>Nick</td>\n",
       "      <td>10.3</td>\n",
       "      <td>3187.0</td>\n",
       "      <td>2.973156</td>\n",
       "      <td>1.56244</td>\n",
       "      <td>2.0</td>\n",
       "      <td>148.560832</td>\n",
       "      <td>1966.468169</td>\n",
       "      <td>6938.0</td>\n",
       "      <td>2017</td>\n",
       "      <td>6.096866</td>\n",
       "    </tr>\n",
       "    <tr>\n",
       "      <th>8666</th>\n",
       "      <td>3.0</td>\n",
       "      <td>h</td>\n",
       "      <td>801000.0</td>\n",
       "      <td>S</td>\n",
       "      <td>Ray</td>\n",
       "      <td>11.2</td>\n",
       "      <td>3073.0</td>\n",
       "      <td>2.973156</td>\n",
       "      <td>1.56244</td>\n",
       "      <td>2.0</td>\n",
       "      <td>148.560832</td>\n",
       "      <td>1966.468169</td>\n",
       "      <td>21650.0</td>\n",
       "      <td>2016</td>\n",
       "      <td>6.096866</td>\n",
       "    </tr>\n",
       "    <tr>\n",
       "      <th>20939</th>\n",
       "      <td>4.0</td>\n",
       "      <td>h</td>\n",
       "      <td>1750000.0</td>\n",
       "      <td>S</td>\n",
       "      <td>McGrath</td>\n",
       "      <td>6.4</td>\n",
       "      <td>3183.0</td>\n",
       "      <td>4.000000</td>\n",
       "      <td>2.00000</td>\n",
       "      <td>2.0</td>\n",
       "      <td>148.560832</td>\n",
       "      <td>1920.000000</td>\n",
       "      <td>2952.0</td>\n",
       "      <td>2017</td>\n",
       "      <td>6.096866</td>\n",
       "    </tr>\n",
       "    <tr>\n",
       "      <th>6420</th>\n",
       "      <td>3.0</td>\n",
       "      <td>t</td>\n",
       "      <td>1135000.0</td>\n",
       "      <td>S</td>\n",
       "      <td>Jellis</td>\n",
       "      <td>11.2</td>\n",
       "      <td>3145.0</td>\n",
       "      <td>3.000000</td>\n",
       "      <td>3.00000</td>\n",
       "      <td>2.0</td>\n",
       "      <td>130.000000</td>\n",
       "      <td>1988.000000</td>\n",
       "      <td>8801.0</td>\n",
       "      <td>2016</td>\n",
       "      <td>6.096866</td>\n",
       "    </tr>\n",
       "    <tr>\n",
       "      <th>5051</th>\n",
       "      <td>2.0</td>\n",
       "      <td>h</td>\n",
       "      <td>1615000.0</td>\n",
       "      <td>SA</td>\n",
       "      <td>Chisholm</td>\n",
       "      <td>13.7</td>\n",
       "      <td>3188.0</td>\n",
       "      <td>2.000000</td>\n",
       "      <td>1.00000</td>\n",
       "      <td>1.0</td>\n",
       "      <td>148.560832</td>\n",
       "      <td>1934.000000</td>\n",
       "      <td>5454.0</td>\n",
       "      <td>2016</td>\n",
       "      <td>6.685861</td>\n",
       "    </tr>\n",
       "    <tr>\n",
       "      <th>2433</th>\n",
       "      <td>4.0</td>\n",
       "      <td>h</td>\n",
       "      <td>1300000.0</td>\n",
       "      <td>S</td>\n",
       "      <td>Jellis</td>\n",
       "      <td>11.8</td>\n",
       "      <td>3105.0</td>\n",
       "      <td>4.000000</td>\n",
       "      <td>1.00000</td>\n",
       "      <td>2.0</td>\n",
       "      <td>180.000000</td>\n",
       "      <td>1960.000000</td>\n",
       "      <td>4480.0</td>\n",
       "      <td>2016</td>\n",
       "      <td>6.575076</td>\n",
       "    </tr>\n",
       "    <tr>\n",
       "      <th>26967</th>\n",
       "      <td>4.0</td>\n",
       "      <td>h</td>\n",
       "      <td>1250000.0</td>\n",
       "      <td>PI</td>\n",
       "      <td>Jellis</td>\n",
       "      <td>14.3</td>\n",
       "      <td>3109.0</td>\n",
       "      <td>4.000000</td>\n",
       "      <td>2.00000</td>\n",
       "      <td>1.0</td>\n",
       "      <td>148.560832</td>\n",
       "      <td>1966.468169</td>\n",
       "      <td>10999.0</td>\n",
       "      <td>2017</td>\n",
       "      <td>6.622736</td>\n",
       "    </tr>\n",
       "    <tr>\n",
       "      <th>769</th>\n",
       "      <td>4.0</td>\n",
       "      <td>h</td>\n",
       "      <td>950000.0</td>\n",
       "      <td>S</td>\n",
       "      <td>Moonee</td>\n",
       "      <td>10.5</td>\n",
       "      <td>3034.0</td>\n",
       "      <td>4.000000</td>\n",
       "      <td>3.00000</td>\n",
       "      <td>3.0</td>\n",
       "      <td>281.000000</td>\n",
       "      <td>1970.000000</td>\n",
       "      <td>4502.0</td>\n",
       "      <td>2016</td>\n",
       "      <td>6.634633</td>\n",
       "    </tr>\n",
       "    <tr>\n",
       "      <th>1685</th>\n",
       "      <td>2.0</td>\n",
       "      <td>u</td>\n",
       "      <td>420000.0</td>\n",
       "      <td>VB</td>\n",
       "      <td>Jellis</td>\n",
       "      <td>13.1</td>\n",
       "      <td>3128.0</td>\n",
       "      <td>2.000000</td>\n",
       "      <td>1.00000</td>\n",
       "      <td>1.0</td>\n",
       "      <td>148.560832</td>\n",
       "      <td>1970.000000</td>\n",
       "      <td>4605.0</td>\n",
       "      <td>2016</td>\n",
       "      <td>6.096866</td>\n",
       "    </tr>\n",
       "    <tr>\n",
       "      <th>8322</th>\n",
       "      <td>3.0</td>\n",
       "      <td>u</td>\n",
       "      <td>475000.0</td>\n",
       "      <td>S</td>\n",
       "      <td>Ray</td>\n",
       "      <td>11.2</td>\n",
       "      <td>3073.0</td>\n",
       "      <td>3.000000</td>\n",
       "      <td>1.00000</td>\n",
       "      <td>1.0</td>\n",
       "      <td>107.000000</td>\n",
       "      <td>1990.000000</td>\n",
       "      <td>21650.0</td>\n",
       "      <td>2016</td>\n",
       "      <td>5.252273</td>\n",
       "    </tr>\n",
       "    <tr>\n",
       "      <th>16023</th>\n",
       "      <td>3.0</td>\n",
       "      <td>h</td>\n",
       "      <td>1400000.0</td>\n",
       "      <td>VB</td>\n",
       "      <td>Jellis</td>\n",
       "      <td>4.6</td>\n",
       "      <td>3181.0</td>\n",
       "      <td>3.000000</td>\n",
       "      <td>1.00000</td>\n",
       "      <td>0.0</td>\n",
       "      <td>148.560832</td>\n",
       "      <td>1966.468169</td>\n",
       "      <td>4380.0</td>\n",
       "      <td>2017</td>\n",
       "      <td>5.897154</td>\n",
       "    </tr>\n",
       "    <tr>\n",
       "      <th>11363</th>\n",
       "      <td>3.0</td>\n",
       "      <td>u</td>\n",
       "      <td>935000.0</td>\n",
       "      <td>PI</td>\n",
       "      <td>Noel</td>\n",
       "      <td>7.5</td>\n",
       "      <td>3123.0</td>\n",
       "      <td>3.000000</td>\n",
       "      <td>2.00000</td>\n",
       "      <td>1.0</td>\n",
       "      <td>107.000000</td>\n",
       "      <td>1975.000000</td>\n",
       "      <td>6482.0</td>\n",
       "      <td>2016</td>\n",
       "      <td>4.969813</td>\n",
       "    </tr>\n",
       "    <tr>\n",
       "      <th>14423</th>\n",
       "      <td>4.0</td>\n",
       "      <td>h</td>\n",
       "      <td>2900000.0</td>\n",
       "      <td>S</td>\n",
       "      <td>Jellis</td>\n",
       "      <td>5.3</td>\n",
       "      <td>3122.0</td>\n",
       "      <td>4.000000</td>\n",
       "      <td>1.00000</td>\n",
       "      <td>3.0</td>\n",
       "      <td>156.000000</td>\n",
       "      <td>1890.000000</td>\n",
       "      <td>11308.0</td>\n",
       "      <td>2017</td>\n",
       "      <td>6.455199</td>\n",
       "    </tr>\n",
       "    <tr>\n",
       "      <th>21962</th>\n",
       "      <td>3.0</td>\n",
       "      <td>h</td>\n",
       "      <td>710000.0</td>\n",
       "      <td>SP</td>\n",
       "      <td>McGrath</td>\n",
       "      <td>26.0</td>\n",
       "      <td>3137.0</td>\n",
       "      <td>3.000000</td>\n",
       "      <td>1.00000</td>\n",
       "      <td>2.0</td>\n",
       "      <td>130.000000</td>\n",
       "      <td>1960.000000</td>\n",
       "      <td>4654.0</td>\n",
       "      <td>2017</td>\n",
       "      <td>6.729824</td>\n",
       "    </tr>\n",
       "    <tr>\n",
       "      <th>4426</th>\n",
       "      <td>2.0</td>\n",
       "      <td>t</td>\n",
       "      <td>410000.0</td>\n",
       "      <td>SP</td>\n",
       "      <td>Rendina</td>\n",
       "      <td>6.4</td>\n",
       "      <td>3011.0</td>\n",
       "      <td>2.000000</td>\n",
       "      <td>2.00000</td>\n",
       "      <td>1.0</td>\n",
       "      <td>80.000000</td>\n",
       "      <td>2014.000000</td>\n",
       "      <td>7570.0</td>\n",
       "      <td>2016</td>\n",
       "      <td>4.174387</td>\n",
       "    </tr>\n",
       "    <tr>\n",
       "      <th>16850</th>\n",
       "      <td>3.0</td>\n",
       "      <td>h</td>\n",
       "      <td>560000.0</td>\n",
       "      <td>SP</td>\n",
       "      <td>O'Brien</td>\n",
       "      <td>24.7</td>\n",
       "      <td>3175.0</td>\n",
       "      <td>3.000000</td>\n",
       "      <td>1.00000</td>\n",
       "      <td>1.0</td>\n",
       "      <td>148.560832</td>\n",
       "      <td>1966.468169</td>\n",
       "      <td>10894.0</td>\n",
       "      <td>2017</td>\n",
       "      <td>6.697034</td>\n",
       "    </tr>\n",
       "    <tr>\n",
       "      <th>22118</th>\n",
       "      <td>3.0</td>\n",
       "      <td>u</td>\n",
       "      <td>527000.0</td>\n",
       "      <td>S</td>\n",
       "      <td>Nelson</td>\n",
       "      <td>12.9</td>\n",
       "      <td>3043.0</td>\n",
       "      <td>2.973156</td>\n",
       "      <td>1.56244</td>\n",
       "      <td>2.0</td>\n",
       "      <td>148.560832</td>\n",
       "      <td>1966.468169</td>\n",
       "      <td>3296.0</td>\n",
       "      <td>2017</td>\n",
       "      <td>6.096866</td>\n",
       "    </tr>\n",
       "    <tr>\n",
       "      <th>11284</th>\n",
       "      <td>4.0</td>\n",
       "      <td>h</td>\n",
       "      <td>771000.0</td>\n",
       "      <td>S</td>\n",
       "      <td>hockingstuart</td>\n",
       "      <td>12.4</td>\n",
       "      <td>3060.0</td>\n",
       "      <td>4.000000</td>\n",
       "      <td>2.00000</td>\n",
       "      <td>2.0</td>\n",
       "      <td>148.560832</td>\n",
       "      <td>1966.468169</td>\n",
       "      <td>5070.0</td>\n",
       "      <td>2016</td>\n",
       "      <td>6.472346</td>\n",
       "    </tr>\n",
       "    <tr>\n",
       "      <th>11964</th>\n",
       "      <td>1.0</td>\n",
       "      <td>u</td>\n",
       "      <td>327000.0</td>\n",
       "      <td>S</td>\n",
       "      <td>Woodards</td>\n",
       "      <td>7.4</td>\n",
       "      <td>3185.0</td>\n",
       "      <td>1.000000</td>\n",
       "      <td>1.00000</td>\n",
       "      <td>1.0</td>\n",
       "      <td>148.560832</td>\n",
       "      <td>1966.468169</td>\n",
       "      <td>821.0</td>\n",
       "      <td>2016</td>\n",
       "      <td>6.186209</td>\n",
       "    </tr>\n",
       "    <tr>\n",
       "      <th>21575</th>\n",
       "      <td>4.0</td>\n",
       "      <td>h</td>\n",
       "      <td>1605000.0</td>\n",
       "      <td>PI</td>\n",
       "      <td>McGrath</td>\n",
       "      <td>7.0</td>\n",
       "      <td>3071.0</td>\n",
       "      <td>4.000000</td>\n",
       "      <td>2.00000</td>\n",
       "      <td>2.0</td>\n",
       "      <td>92.000000</td>\n",
       "      <td>1930.000000</td>\n",
       "      <td>8870.0</td>\n",
       "      <td>2017</td>\n",
       "      <td>5.852202</td>\n",
       "    </tr>\n",
       "    <tr>\n",
       "      <th>5390</th>\n",
       "      <td>3.0</td>\n",
       "      <td>t</td>\n",
       "      <td>706750.0</td>\n",
       "      <td>S</td>\n",
       "      <td>Nelson</td>\n",
       "      <td>10.5</td>\n",
       "      <td>3081.0</td>\n",
       "      <td>3.000000</td>\n",
       "      <td>2.00000</td>\n",
       "      <td>2.0</td>\n",
       "      <td>125.000000</td>\n",
       "      <td>2012.000000</td>\n",
       "      <td>2947.0</td>\n",
       "      <td>2017</td>\n",
       "      <td>5.521461</td>\n",
       "    </tr>\n",
       "    <tr>\n",
       "      <th>860</th>\n",
       "      <td>5.0</td>\n",
       "      <td>h</td>\n",
       "      <td>2250000.0</td>\n",
       "      <td>PI</td>\n",
       "      <td>Noel</td>\n",
       "      <td>9.7</td>\n",
       "      <td>3103.0</td>\n",
       "      <td>5.000000</td>\n",
       "      <td>3.00000</td>\n",
       "      <td>2.0</td>\n",
       "      <td>356.000000</td>\n",
       "      <td>2006.000000</td>\n",
       "      <td>5682.0</td>\n",
       "      <td>2016</td>\n",
       "      <td>6.396930</td>\n",
       "    </tr>\n",
       "    <tr>\n",
       "      <th>23654</th>\n",
       "      <td>3.0</td>\n",
       "      <td>h</td>\n",
       "      <td>975000.0</td>\n",
       "      <td>S</td>\n",
       "      <td>O'Brien</td>\n",
       "      <td>17.9</td>\n",
       "      <td>3192.0</td>\n",
       "      <td>3.000000</td>\n",
       "      <td>2.00000</td>\n",
       "      <td>2.0</td>\n",
       "      <td>0.000000</td>\n",
       "      <td>1970.000000</td>\n",
       "      <td>9758.0</td>\n",
       "      <td>2017</td>\n",
       "      <td>6.478510</td>\n",
       "    </tr>\n",
       "  </tbody>\n",
       "</table>\n",
       "<p>17025 rows × 15 columns</p>\n",
       "</div>"
      ],
      "text/plain": [
       "       Rooms Type      Price Method        SellerG  Distance  Postcode  \\\n",
       "17957    3.0    h  1370000.0      S           Gary      10.1    3163.0   \n",
       "6753     3.0    h  2956000.0      S       Marshall       4.1    3206.0   \n",
       "17054    3.0    h  1250000.0     VB  hockingstuart      12.3    3166.0   \n",
       "19340    2.0    u   682000.0      S         Jellis       7.7    3124.0   \n",
       "14883    3.0    h   740000.0      S            Ray      17.9    3192.0   \n",
       "21741    2.0    t   580000.0     PI         Jellis       5.2    3055.0   \n",
       "1472     4.0    h  1100000.0      S         Hodges      13.9    3165.0   \n",
       "18262    4.0    h  1200000.0      S         Nelson      12.0    3073.0   \n",
       "3559     2.0    h  1265000.0      S         Jellis       1.6    3066.0   \n",
       "25549    3.0    h  1840000.0     PI         Jellis       7.9    3103.0   \n",
       "17242    2.0    u   660000.0      S  hockingstuart       4.6    3181.0   \n",
       "17455    3.0    h   386000.0      S  hockingstuart      14.0    3047.0   \n",
       "17591    3.0    h   575500.0      S          Miles       8.8    3081.0   \n",
       "18396    3.0    h  1306000.0      S         Jellis       4.3    3032.0   \n",
       "25892    3.0    u   686000.0      S  hockingstuart      27.0    3196.0   \n",
       "24952    4.0    h  2230000.0     PI         Jellis       7.7    3124.0   \n",
       "23609    1.0    u   390000.0     PI        McGrath       4.0    3057.0   \n",
       "7828     2.0    u  1035000.0     PI             RT       3.8    3207.0   \n",
       "6462     3.0    h  1750000.0      S       Marshall      11.2    3145.0   \n",
       "17239    2.0    h   780000.0     VB         Biggin       4.6    3181.0   \n",
       "21046    3.0    h  2770000.0      S       Marshall       7.7    3124.0   \n",
       "4577     4.0    h  1870000.0      S       Marshall       9.2    3146.0   \n",
       "10311    3.0    h  1190000.0      S        McGrath       6.5    3071.0   \n",
       "21434    5.0    h   955000.0      S         Nelson      11.2    3046.0   \n",
       "5771     2.0    t   650000.0      S         Nelson       4.2    3031.0   \n",
       "19273    3.0    h   770000.0     PI      Harcourts       9.5    3034.0   \n",
       "25302    3.0    h  1785000.0      S         Jellis       4.6    3181.0   \n",
       "22279    3.0    h  1325000.0      S         Jellis       5.2    3056.0   \n",
       "14413    3.0    h   662500.0      S        O'Brien      32.3    3803.0   \n",
       "9684     3.0    h  1025000.0      S      Considine       9.7    3041.0   \n",
       "...      ...  ...        ...    ...            ...       ...       ...   \n",
       "21042    6.0    h  2835000.0     SP           Noel       7.7    3124.0   \n",
       "3005     2.0    u   650000.0      S  hockingstuart      11.4    3163.0   \n",
       "19118    1.0    u   250000.0     PI  hockingstuart       8.4    3072.0   \n",
       "2747     2.0    u   530000.0     PI      Fletchers       7.8    3124.0   \n",
       "18431    4.0    h   631000.0      S            YPA      14.0    3047.0   \n",
       "24233    3.0    h   785000.0     SP      Flannagan      16.1    3088.0   \n",
       "18942    1.0    u   895000.0      S            Kay       1.3    3002.0   \n",
       "25658    3.0    u  1050000.0      S           Nick      10.3    3187.0   \n",
       "8666     3.0    h   801000.0      S            Ray      11.2    3073.0   \n",
       "20939    4.0    h  1750000.0      S        McGrath       6.4    3183.0   \n",
       "6420     3.0    t  1135000.0      S         Jellis      11.2    3145.0   \n",
       "5051     2.0    h  1615000.0     SA       Chisholm      13.7    3188.0   \n",
       "2433     4.0    h  1300000.0      S         Jellis      11.8    3105.0   \n",
       "26967    4.0    h  1250000.0     PI         Jellis      14.3    3109.0   \n",
       "769      4.0    h   950000.0      S         Moonee      10.5    3034.0   \n",
       "1685     2.0    u   420000.0     VB         Jellis      13.1    3128.0   \n",
       "8322     3.0    u   475000.0      S            Ray      11.2    3073.0   \n",
       "16023    3.0    h  1400000.0     VB         Jellis       4.6    3181.0   \n",
       "11363    3.0    u   935000.0     PI           Noel       7.5    3123.0   \n",
       "14423    4.0    h  2900000.0      S         Jellis       5.3    3122.0   \n",
       "21962    3.0    h   710000.0     SP        McGrath      26.0    3137.0   \n",
       "4426     2.0    t   410000.0     SP        Rendina       6.4    3011.0   \n",
       "16850    3.0    h   560000.0     SP        O'Brien      24.7    3175.0   \n",
       "22118    3.0    u   527000.0      S         Nelson      12.9    3043.0   \n",
       "11284    4.0    h   771000.0      S  hockingstuart      12.4    3060.0   \n",
       "11964    1.0    u   327000.0      S       Woodards       7.4    3185.0   \n",
       "21575    4.0    h  1605000.0     PI        McGrath       7.0    3071.0   \n",
       "5390     3.0    t   706750.0      S         Nelson      10.5    3081.0   \n",
       "860      5.0    h  2250000.0     PI           Noel       9.7    3103.0   \n",
       "23654    3.0    h   975000.0      S        O'Brien      17.9    3192.0   \n",
       "\n",
       "       Bedroom2  Bathroom  Car  BuildingArea    YearBuilt  Propertycount  \\\n",
       "17957  3.000000   1.00000  2.0    148.560832  1966.468169         7822.0   \n",
       "6753   3.000000   2.00000  0.0    148.560832  1966.468169         2019.0   \n",
       "17054  3.000000   1.00000  2.0    148.560832  1966.468169         3145.0   \n",
       "19340  2.000000   1.00000  1.0    148.560832  1970.000000         8920.0   \n",
       "14883  2.973156   1.56244  2.0    148.560832  1966.468169         9758.0   \n",
       "21741  2.000000   1.00000  1.0     75.000000  2009.000000         7082.0   \n",
       "1472   4.000000   2.00000  1.0    190.000000  2004.000000        10969.0   \n",
       "18262  4.000000   2.00000  2.0    260.000000  1940.000000        21650.0   \n",
       "3559   3.000000   1.00000  1.0    112.000000  1920.000000         4553.0   \n",
       "25549  2.973156   1.56244  2.0    148.560832  1966.468169         5682.0   \n",
       "17242  2.000000   1.00000  1.0    148.560832  1966.468169         7717.0   \n",
       "17455  3.000000   1.00000  1.0     71.000000  1965.000000         4294.0   \n",
       "17591  3.000000   1.00000  1.0    148.560832  1966.468169         2674.0   \n",
       "18396  3.000000   1.00000  0.0    126.000000  1900.000000         6567.0   \n",
       "25892  2.973156   1.56244  2.0    148.560832  1966.468169         2546.0   \n",
       "24952  4.000000   2.00000  2.0    148.560832  1966.468169         8920.0   \n",
       "23609  2.973156   1.56244  2.0    148.560832  1966.468169         5533.0   \n",
       "7828   2.000000   2.00000  1.0    148.560832  2003.000000         8648.0   \n",
       "6462   3.000000   1.00000  2.0    148.560832  1966.468169         8801.0   \n",
       "17239  2.000000   1.00000  0.0     48.000000  1900.000000         7717.0   \n",
       "21046  3.000000   2.00000  2.0    148.560832  1991.000000         8920.0   \n",
       "4577   2.973156   1.56244  2.0    148.560832  1966.468169        10412.0   \n",
       "10311  3.000000   1.00000  0.0    148.560832  1966.468169         8870.0   \n",
       "21434  5.000000   2.00000  4.0    148.560832  1966.468169         2651.0   \n",
       "5771   2.000000   1.00000  1.0    148.560832  1966.468169         5263.0   \n",
       "19273  2.973156   1.56244  2.0    148.560832  1966.468169         4502.0   \n",
       "25302  3.000000   2.00000  2.0    155.000000  1920.000000         7717.0   \n",
       "22279  3.000000   1.00000  1.0    120.000000  1920.000000        11918.0   \n",
       "14413  3.000000   2.00000  2.0    148.560832  1966.468169         3728.0   \n",
       "9684   3.000000   2.00000  1.0    180.000000  1950.000000         3284.0   \n",
       "...         ...       ...  ...           ...          ...            ...   \n",
       "21042  6.000000   3.00000  2.0    283.000000  1970.000000         8920.0   \n",
       "3005   2.000000   1.00000  1.0     80.000000  1975.000000         7822.0   \n",
       "19118  1.000000   1.00000  1.0     34.000000  1965.000000        14577.0   \n",
       "2747   2.000000   1.00000  1.0    148.560832  1966.468169         8920.0   \n",
       "18431  4.000000   2.00000  2.0    158.000000  1960.000000         4294.0   \n",
       "24233  3.000000   1.00000  1.0    116.000000  1989.000000         1390.0   \n",
       "18942  1.000000   1.00000  1.0     60.000000  1990.000000         3040.0   \n",
       "25658  2.973156   1.56244  2.0    148.560832  1966.468169         6938.0   \n",
       "8666   2.973156   1.56244  2.0    148.560832  1966.468169        21650.0   \n",
       "20939  4.000000   2.00000  2.0    148.560832  1920.000000         2952.0   \n",
       "6420   3.000000   3.00000  2.0    130.000000  1988.000000         8801.0   \n",
       "5051   2.000000   1.00000  1.0    148.560832  1934.000000         5454.0   \n",
       "2433   4.000000   1.00000  2.0    180.000000  1960.000000         4480.0   \n",
       "26967  4.000000   2.00000  1.0    148.560832  1966.468169        10999.0   \n",
       "769    4.000000   3.00000  3.0    281.000000  1970.000000         4502.0   \n",
       "1685   2.000000   1.00000  1.0    148.560832  1970.000000         4605.0   \n",
       "8322   3.000000   1.00000  1.0    107.000000  1990.000000        21650.0   \n",
       "16023  3.000000   1.00000  0.0    148.560832  1966.468169         4380.0   \n",
       "11363  3.000000   2.00000  1.0    107.000000  1975.000000         6482.0   \n",
       "14423  4.000000   1.00000  3.0    156.000000  1890.000000        11308.0   \n",
       "21962  3.000000   1.00000  2.0    130.000000  1960.000000         4654.0   \n",
       "4426   2.000000   2.00000  1.0     80.000000  2014.000000         7570.0   \n",
       "16850  3.000000   1.00000  1.0    148.560832  1966.468169        10894.0   \n",
       "22118  2.973156   1.56244  2.0    148.560832  1966.468169         3296.0   \n",
       "11284  4.000000   2.00000  2.0    148.560832  1966.468169         5070.0   \n",
       "11964  1.000000   1.00000  1.0    148.560832  1966.468169          821.0   \n",
       "21575  4.000000   2.00000  2.0     92.000000  1930.000000         8870.0   \n",
       "5390   3.000000   2.00000  2.0    125.000000  2012.000000         2947.0   \n",
       "860    5.000000   3.00000  2.0    356.000000  2006.000000         5682.0   \n",
       "23654  3.000000   2.00000  2.0      0.000000  1970.000000         9758.0   \n",
       "\n",
       "       sold_year  Landsize_log  \n",
       "17957       2017      6.184149  \n",
       "6753        2017      5.703782  \n",
       "17054       2017      6.401917  \n",
       "19340       2017      7.008505  \n",
       "14883       2017      6.096866  \n",
       "21741       2017      6.096866  \n",
       "1472        2016      5.613128  \n",
       "18262       2017      6.212606  \n",
       "3559        2016      5.641907  \n",
       "25549       2017      6.096866  \n",
       "17242       2017      6.096866  \n",
       "17455       2017      5.831882  \n",
       "17591       2017      6.077642  \n",
       "18396       2017      5.293305  \n",
       "25892       2017      6.096866  \n",
       "24952       2017      6.096866  \n",
       "23609       2017      6.096866  \n",
       "7828        2016      6.096866  \n",
       "6462        2016      6.331502  \n",
       "17239       2017      4.762174  \n",
       "21046       2017      6.385194  \n",
       "4577        2016      6.096866  \n",
       "10311       2017      6.096866  \n",
       "21434       2017      6.731018  \n",
       "5771        2016      4.369448  \n",
       "19273       2017      6.096866  \n",
       "25302       2017      5.247024  \n",
       "22279       2017      5.802118  \n",
       "14413       2017      6.475433  \n",
       "9684        2016      6.483107  \n",
       "...          ...           ...  \n",
       "21042       2017      6.677083  \n",
       "3005        2016      5.159055  \n",
       "19118       2017      6.447306  \n",
       "2747        2016      6.096866  \n",
       "18431       2017      6.545350  \n",
       "24233       2017      6.670766  \n",
       "18942       2017      6.096866  \n",
       "25658       2017      6.096866  \n",
       "8666        2016      6.096866  \n",
       "20939       2017      6.096866  \n",
       "6420        2016      6.096866  \n",
       "5051        2016      6.685861  \n",
       "2433        2016      6.575076  \n",
       "26967       2017      6.622736  \n",
       "769         2016      6.634633  \n",
       "1685        2016      6.096866  \n",
       "8322        2016      5.252273  \n",
       "16023       2017      5.897154  \n",
       "11363       2016      4.969813  \n",
       "14423       2017      6.455199  \n",
       "21962       2017      6.729824  \n",
       "4426        2016      4.174387  \n",
       "16850       2017      6.697034  \n",
       "22118       2017      6.096866  \n",
       "11284       2016      6.472346  \n",
       "11964       2016      6.186209  \n",
       "21575       2017      5.852202  \n",
       "5390        2017      5.521461  \n",
       "860         2016      6.396930  \n",
       "23654       2017      6.478510  \n",
       "\n",
       "[17025 rows x 15 columns]"
      ]
     },
     "execution_count": 56,
     "metadata": {},
     "output_type": "execute_result"
    }
   ],
   "source": [
    "training_set.fillna(value= training_set.mean()[[\"BuildingArea\", \"YearBuilt\", \"Propertycount\"]], inplace=True)"
   ]
  },
  {
   "cell_type": "markdown",
   "metadata": {},
   "source": [
    "# --------------------------------------------------------------------"
   ]
  },
  {
   "cell_type": "code",
   "execution_count": 57,
   "metadata": {},
   "outputs": [
    {
     "data": {
      "text/plain": [
       "Rooms            False\n",
       "Type             False\n",
       "Price            False\n",
       "Method           False\n",
       "SellerG          False\n",
       "Distance         False\n",
       "Postcode         False\n",
       "Bedroom2         False\n",
       "Bathroom         False\n",
       "Car              False\n",
       "BuildingArea     False\n",
       "YearBuilt        False\n",
       "Propertycount    False\n",
       "sold_year        False\n",
       "Landsize_log     False\n",
       "dtype: bool"
      ]
     },
     "execution_count": 57,
     "metadata": {},
     "output_type": "execute_result"
    }
   ],
   "source": [
    "training_set.isnull().any()"
   ]
  },
  {
   "cell_type": "code",
   "execution_count": 58,
   "metadata": {},
   "outputs": [
    {
     "data": {
      "text/plain": [
       "Rooms            float64\n",
       "Type              object\n",
       "Price            float64\n",
       "Method            object\n",
       "SellerG           object\n",
       "Distance         float64\n",
       "Postcode         float64\n",
       "Bedroom2         float64\n",
       "Bathroom         float64\n",
       "Car              float64\n",
       "BuildingArea     float64\n",
       "YearBuilt        float64\n",
       "Propertycount    float64\n",
       "sold_year          int64\n",
       "Landsize_log     float64\n",
       "dtype: object"
      ]
     },
     "execution_count": 58,
     "metadata": {},
     "output_type": "execute_result"
    }
   ],
   "source": [
    "training_set.dtypes"
   ]
  },
  {
   "cell_type": "markdown",
   "metadata": {},
   "source": [
    "### Interested in knowing more about catagorical/text columns. Once after analysis we have to convert the data to numerical.\n",
    "  * Before we convert catagorical data to numbers, we must see if there is any effect of the \"individual catagories\" on the mean of the target variable.\n",
    "    * Example if there are 10 houses beloning to Method **\"S\"**, 100 houses belonging to Method **\"SP\"**.\n",
    "    Total Price of \"S\" houses in 100000, Total Price of \"SP\" houses is 1000000. **The avarage (mean) Price of \"S\" and \"SP\" houses is same - 10000**. That means \"statistically\" **there is no direct effect of Method \"S\", \"SP\" on Price variable** (<font color='red'>note: in business point of view, there might be an effect. Need to check statistical understanding with business analyst</font>). In this scenario we should go with **One-Hot-Encoding or Dummy Variable** creation. Otherwise we can go with **Label Encoding**."
   ]
  },
  {
   "cell_type": "code",
   "execution_count": 59,
   "metadata": {},
   "outputs": [
    {
     "data": {
      "text/plain": [
       "Index(['Type', 'Method', 'SellerG'], dtype='object')"
      ]
     },
     "execution_count": 59,
     "metadata": {},
     "output_type": "execute_result"
    }
   ],
   "source": [
    "training_set.select_dtypes(['object']).columns"
   ]
  },
  {
   "cell_type": "code",
   "execution_count": 60,
   "metadata": {},
   "outputs": [
    {
     "data": {
      "text/plain": [
       "S     11087\n",
       "SP     2208\n",
       "PI     2034\n",
       "VB     1575\n",
       "SA      121\n",
       "Name: Method, dtype: int64"
      ]
     },
     "execution_count": 60,
     "metadata": {},
     "output_type": "execute_result"
    }
   ],
   "source": [
    "training_set['Method'].value_counts()"
   ]
  },
  {
   "cell_type": "markdown",
   "metadata": {},
   "source": [
    "#### Is there a significant effect of different categories in Method on Price"
   ]
  },
  {
   "cell_type": "code",
   "execution_count": 61,
   "metadata": {},
   "outputs": [
    {
     "data": {
      "text/plain": [
       "Method\n",
       "PI    1.111503e+06\n",
       "S     1.063461e+06\n",
       "SA    9.976520e+05\n",
       "SP    8.772109e+05\n",
       "VB    1.152664e+06\n",
       "Name: Price, dtype: float64"
      ]
     },
     "execution_count": 61,
     "metadata": {},
     "output_type": "execute_result"
    }
   ],
   "source": [
    "training_set.groupby(['Method'])['Price'].mean()"
   ]
  },
  {
   "cell_type": "code",
   "execution_count": 62,
   "metadata": {},
   "outputs": [
    {
     "data": {
      "text/plain": [
       "Text(-21.325,0.5,'Mean Price')"
      ]
     },
     "execution_count": 62,
     "metadata": {},
     "output_type": "execute_result"
    },
    {
     "data": {
      "image/png": "[encoded data removed]",
      "text/plain": [
       "<matplotlib.figure.Figure at 0x15b2d3c4dd8>"
      ]
     },
     "metadata": {},
     "output_type": "display_data"
    }
   ],
   "source": [
    "sns.factorplot(data=training_set, x=\"Method\", y=\"Price\", kind=\"bar\", ci=None)\n",
    "plt.ylabel(\"Mean Price\")"
   ]
  },
  {
   "cell_type": "markdown",
   "metadata": {},
   "source": [
    "#### Above visualization depects that there is a little difference in mean price for different catagories of Method. Need to do hypothesis testing to make sure that this holds true in population"
   ]
  },
  {
   "cell_type": "markdown",
   "metadata": {},
   "source": [
    "#### ANOVA: Tukey's Honestly Singnificant Difference test"
   ]
  },
  {
   "cell_type": "code",
   "execution_count": 63,
   "metadata": {},
   "outputs": [
    {
     "name": "stdout",
     "output_type": "stream",
     "text": [
      "     Multiple Comparison of Means - Tukey HSD,FWER=0.05    \n",
      "===========================================================\n",
      "group1 group2   meandiff      lower        upper     reject\n",
      "-----------------------------------------------------------\n",
      "  PI     S    -48041.5099  -89770.8057   -6312.2141   True \n",
      "  PI     SA   -113850.6874 -275731.5702  48030.1953  False \n",
      "  PI     SP   -234291.7744 -287459.7849 -181123.7639  True \n",
      "  PI     VB    41161.4726  -16903.9744   99226.9196  False \n",
      "  S      SA   -65809.1776  -223935.5975  92317.2424  False \n",
      "  S      SP   -186250.2645 -226566.2889 -145934.2402  True \n",
      "  S      VB    89202.9825   42618.2144  135787.7506   True \n",
      "  SA     SP   -120441.087  -281963.4318  41081.2579  False \n",
      "  SA     VB    155012.16    -8187.7992  318212.1193  False \n",
      "  SP     VB    275453.247  218394.9976  332511.4964   True \n",
      "-----------------------------------------------------------\n"
     ]
    }
   ],
   "source": [
    "import statsmodels.stats.multicomp as multi\n",
    "\n",
    "mc1 = multi.MultiComparison(training_set[\"Price\"],training_set[\"Method\"])\n",
    "res1 = mc1.tukeyhsd()\n",
    "print(res1.summary())"
   ]
  },
  {
   "cell_type": "markdown",
   "metadata": {},
   "source": [
    "#### Most of the pair wise ANOVA tests show that there is a significance \"Price\" difference for different catagories of \"Mehod\". Hence we can do LavelEncoding"
   ]
  },
  {
   "cell_type": "code",
   "execution_count": 64,
   "metadata": {
    "collapsed": true
   },
   "outputs": [],
   "source": [
    "lst_all_method_cats = ['S', 'SP','PI','PN','SN','NB','VB','W','SA','SS','N/A']"
   ]
  },
  {
   "cell_type": "code",
   "execution_count": 65,
   "metadata": {},
   "outputs": [
    {
     "data": {
      "text/plain": [
       "S      11087\n",
       "SP      2208\n",
       "PI      2034\n",
       "VB      1575\n",
       "SA       121\n",
       "N/A        0\n",
       "SS         0\n",
       "W          0\n",
       "NB         0\n",
       "SN         0\n",
       "PN         0\n",
       "Name: Method, dtype: int64"
      ]
     },
     "execution_count": 65,
     "metadata": {},
     "output_type": "execute_result"
    }
   ],
   "source": [
    "training_set.Method = pd.Categorical(training_set.Method, categories=lst_all_method_cats)\n",
    "training_set.Method.value_counts()"
   ]
  },
  {
   "cell_type": "code",
   "execution_count": 66,
   "metadata": {
    "collapsed": true
   },
   "outputs": [],
   "source": [
    "training_set = pd.get_dummies(training_set, columns=[\"Method\"], prefix=[\"Method\"], drop_first=True)"
   ]
  },
  {
   "cell_type": "code",
   "execution_count": 67,
   "metadata": {},
   "outputs": [
    {
     "data": {
      "text/plain": [
       "['Method_SP',\n",
       " 'Method_PI',\n",
       " 'Method_PN',\n",
       " 'Method_SN',\n",
       " 'Method_NB',\n",
       " 'Method_VB',\n",
       " 'Method_W',\n",
       " 'Method_SA',\n",
       " 'Method_SS',\n",
       " 'Method_N/A']"
      ]
     },
     "execution_count": 67,
     "metadata": {},
     "output_type": "execute_result"
    }
   ],
   "source": [
    "[col for col in training_set.columns if 'Method' in col ]"
   ]
  },
  {
   "cell_type": "code",
   "execution_count": 68,
   "metadata": {},
   "outputs": [
    {
     "data": {
      "text/html": [
       "<div>\n",
       "<style>\n",
       "    .dataframe thead tr:only-child th {\n",
       "        text-align: right;\n",
       "    }\n",
       "\n",
       "    .dataframe thead th {\n",
       "        text-align: left;\n",
       "    }\n",
       "\n",
       "    .dataframe tbody tr th {\n",
       "        vertical-align: top;\n",
       "    }\n",
       "</style>\n",
       "<table border=\"1\" class=\"dataframe\">\n",
       "  <thead>\n",
       "    <tr style=\"text-align: right;\">\n",
       "      <th></th>\n",
       "      <th>Method_SP</th>\n",
       "      <th>Method_PI</th>\n",
       "      <th>Method_PN</th>\n",
       "      <th>Method_SN</th>\n",
       "      <th>Method_NB</th>\n",
       "      <th>Method_VB</th>\n",
       "      <th>Method_W</th>\n",
       "      <th>Method_SA</th>\n",
       "      <th>Method_SS</th>\n",
       "      <th>Method_N/A</th>\n",
       "    </tr>\n",
       "  </thead>\n",
       "  <tbody>\n",
       "    <tr>\n",
       "      <th>17957</th>\n",
       "      <td>0</td>\n",
       "      <td>0</td>\n",
       "      <td>0</td>\n",
       "      <td>0</td>\n",
       "      <td>0</td>\n",
       "      <td>0</td>\n",
       "      <td>0</td>\n",
       "      <td>0</td>\n",
       "      <td>0</td>\n",
       "      <td>0</td>\n",
       "    </tr>\n",
       "    <tr>\n",
       "      <th>6753</th>\n",
       "      <td>0</td>\n",
       "      <td>0</td>\n",
       "      <td>0</td>\n",
       "      <td>0</td>\n",
       "      <td>0</td>\n",
       "      <td>0</td>\n",
       "      <td>0</td>\n",
       "      <td>0</td>\n",
       "      <td>0</td>\n",
       "      <td>0</td>\n",
       "    </tr>\n",
       "    <tr>\n",
       "      <th>17054</th>\n",
       "      <td>0</td>\n",
       "      <td>0</td>\n",
       "      <td>0</td>\n",
       "      <td>0</td>\n",
       "      <td>0</td>\n",
       "      <td>1</td>\n",
       "      <td>0</td>\n",
       "      <td>0</td>\n",
       "      <td>0</td>\n",
       "      <td>0</td>\n",
       "    </tr>\n",
       "    <tr>\n",
       "      <th>19340</th>\n",
       "      <td>0</td>\n",
       "      <td>0</td>\n",
       "      <td>0</td>\n",
       "      <td>0</td>\n",
       "      <td>0</td>\n",
       "      <td>0</td>\n",
       "      <td>0</td>\n",
       "      <td>0</td>\n",
       "      <td>0</td>\n",
       "      <td>0</td>\n",
       "    </tr>\n",
       "    <tr>\n",
       "      <th>14883</th>\n",
       "      <td>0</td>\n",
       "      <td>0</td>\n",
       "      <td>0</td>\n",
       "      <td>0</td>\n",
       "      <td>0</td>\n",
       "      <td>0</td>\n",
       "      <td>0</td>\n",
       "      <td>0</td>\n",
       "      <td>0</td>\n",
       "      <td>0</td>\n",
       "    </tr>\n",
       "  </tbody>\n",
       "</table>\n",
       "</div>"
      ],
      "text/plain": [
       "       Method_SP  Method_PI  Method_PN  Method_SN  Method_NB  Method_VB  \\\n",
       "17957          0          0          0          0          0          0   \n",
       "6753           0          0          0          0          0          0   \n",
       "17054          0          0          0          0          0          1   \n",
       "19340          0          0          0          0          0          0   \n",
       "14883          0          0          0          0          0          0   \n",
       "\n",
       "       Method_W  Method_SA  Method_SS  Method_N/A  \n",
       "17957         0          0          0           0  \n",
       "6753          0          0          0           0  \n",
       "17054         0          0          0           0  \n",
       "19340         0          0          0           0  \n",
       "14883         0          0          0           0  "
      ]
     },
     "execution_count": 68,
     "metadata": {},
     "output_type": "execute_result"
    }
   ],
   "source": [
    "training_set[[col for col in training_set.columns if 'Method' in col]].head()"
   ]
  },
  {
   "cell_type": "markdown",
   "metadata": {},
   "source": [
    "# --------------------------------------------------------------------"
   ]
  },
  {
   "cell_type": "code",
   "execution_count": 69,
   "metadata": {},
   "outputs": [
    {
     "data": {
      "text/plain": [
       "h    11307\n",
       "u     3876\n",
       "t     1842\n",
       "Name: Type, dtype: int64"
      ]
     },
     "execution_count": 69,
     "metadata": {},
     "output_type": "execute_result"
    }
   ],
   "source": [
    "training_set['Type'].value_counts()"
   ]
  },
  {
   "cell_type": "code",
   "execution_count": 70,
   "metadata": {},
   "outputs": [
    {
     "data": {
      "text/plain": [
       "Type\n",
       "h    1.221558e+06\n",
       "t    9.230654e+05\n",
       "u    6.222873e+05\n",
       "Name: Price, dtype: float64"
      ]
     },
     "execution_count": 70,
     "metadata": {},
     "output_type": "execute_result"
    }
   ],
   "source": [
    "training_set.groupby(['Type'])['Price'].mean()"
   ]
  },
  {
   "cell_type": "markdown",
   "metadata": {},
   "source": [
    "#### We see significant difference, hence we can go with Label Encoding"
   ]
  },
  {
   "cell_type": "code",
   "execution_count": 71,
   "metadata": {},
   "outputs": [
    {
     "data": {
      "text/plain": [
       "0    11307\n",
       "2     3876\n",
       "1     1842\n",
       "Name: Type, dtype: int64"
      ]
     },
     "execution_count": 71,
     "metadata": {},
     "output_type": "execute_result"
    }
   ],
   "source": [
    "training_set['Type'] = pd.Categorical(training_set['Type'])\n",
    "training_set['Type'] = training_set['Type'].cat.codes\n",
    "training_set['Type'].value_counts()"
   ]
  },
  {
   "cell_type": "markdown",
   "metadata": {},
   "source": [
    "# --------------------------------------------------------------------"
   ]
  },
  {
   "cell_type": "code",
   "execution_count": 72,
   "metadata": {},
   "outputs": [
    {
     "data": {
      "text/plain": [
       "(296,)"
      ]
     },
     "execution_count": 72,
     "metadata": {},
     "output_type": "execute_result"
    }
   ],
   "source": [
    "training_set['SellerG'].value_counts().shape"
   ]
  },
  {
   "cell_type": "markdown",
   "metadata": {},
   "source": [
    "#### Check the behaviour of the top sellers."
   ]
  },
  {
   "cell_type": "code",
   "execution_count": 73,
   "metadata": {
    "collapsed": true
   },
   "outputs": [],
   "source": [
    "top_sellers = list(training_set['SellerG'].value_counts()[training_set['SellerG'].value_counts().values > 100].index)"
   ]
  },
  {
   "cell_type": "code",
   "execution_count": 74,
   "metadata": {},
   "outputs": [
    {
     "name": "stdout",
     "output_type": "stream",
     "text": [
      "['Nelson', 'Jellis', 'hockingstuart', 'Barry', 'Ray', 'Buxton', 'Marshall', 'Biggin', 'Brad', 'Fletchers', 'Woodards', 'McGrath', 'Jas', 'Greg', 'Sweeney', 'Noel', 'Stockdale', 'Miles', 'RT', 'YPA', 'Gary', 'Harcourts', 'Hodges', 'Raine', 'Love', 'Kay', 'RW', 'Village', 'Williams', 'HAR', 'Douglas']\n"
     ]
    }
   ],
   "source": [
    "print(top_sellers)"
   ]
  },
  {
   "cell_type": "code",
   "execution_count": 75,
   "metadata": {
    "collapsed": true
   },
   "outputs": [],
   "source": [
    "top_sellers_train_set = training_set[training_set['SellerG'].isin(top_sellers)]"
   ]
  },
  {
   "cell_type": "code",
   "execution_count": 76,
   "metadata": {},
   "outputs": [
    {
     "data": {
      "image/png": "[encoded data removed]",
      "text/plain": [
       "<matplotlib.figure.Figure at 0x15b2fae5550>"
      ]
     },
     "metadata": {},
     "output_type": "display_data"
    }
   ],
   "source": [
    "top_sel = sns.factorplot(data=top_sellers_train_set, x=\"SellerG\", y=\"Price\", kind=\"bar\", size=10, ci=None)\n",
    "plt.ylabel(\"Mean Price\")\n",
    "l1 = top_sel.set_yticklabels(rotation = 45)\n",
    "l2 = top_sel.set_xticklabels(rotation = 45)"
   ]
  },
  {
   "cell_type": "markdown",
   "metadata": {},
   "source": [
    "#### We see significant difference, hence we can go with Label Encoding"
   ]
  },
  {
   "cell_type": "code",
   "execution_count": 77,
   "metadata": {},
   "outputs": [
    {
     "data": {
      "text/plain": [
       "177    1808\n",
       "126    1615\n",
       "285    1407\n",
       "20     1370\n",
       "220     951\n",
       "Name: SellerG, dtype: int64"
      ]
     },
     "execution_count": 77,
     "metadata": {},
     "output_type": "execute_result"
    }
   ],
   "source": [
    "training_set['SellerG'] = pd.Categorical(training_set['SellerG'])\n",
    "training_set['SellerG'] = training_set['SellerG'].cat.codes\n",
    "training_set['SellerG'].value_counts().head()"
   ]
  },
  {
   "cell_type": "markdown",
   "metadata": {},
   "source": [
    "## Now data is ready, lets build a Linear Regression model with SGDRegressor"
   ]
  },
  {
   "cell_type": "code",
   "execution_count": 78,
   "metadata": {},
   "outputs": [
    {
     "data": {
      "text/plain": [
       "Rooms            float64\n",
       "Type                int8\n",
       "Price            float64\n",
       "SellerG            int16\n",
       "Distance         float64\n",
       "Postcode         float64\n",
       "Bedroom2         float64\n",
       "Bathroom         float64\n",
       "Car              float64\n",
       "BuildingArea     float64\n",
       "YearBuilt        float64\n",
       "Propertycount    float64\n",
       "sold_year          int64\n",
       "Landsize_log     float64\n",
       "Method_SP          uint8\n",
       "Method_PI          uint8\n",
       "Method_PN          uint8\n",
       "Method_SN          uint8\n",
       "Method_NB          uint8\n",
       "Method_VB          uint8\n",
       "Method_W           uint8\n",
       "Method_SA          uint8\n",
       "Method_SS          uint8\n",
       "Method_N/A         uint8\n",
       "dtype: object"
      ]
     },
     "execution_count": 78,
     "metadata": {},
     "output_type": "execute_result"
    }
   ],
   "source": [
    "training_set.dtypes"
   ]
  },
  {
   "cell_type": "code",
   "execution_count": 79,
   "metadata": {
    "collapsed": true
   },
   "outputs": [],
   "source": [
    "input_features = [x for x in training_set.columns if x not in ['Price']]"
   ]
  },
  {
   "cell_type": "code",
   "execution_count": 80,
   "metadata": {},
   "outputs": [
    {
     "data": {
      "text/plain": [
       "['Rooms',\n",
       " 'Type',\n",
       " 'SellerG',\n",
       " 'Distance',\n",
       " 'Postcode',\n",
       " 'Bedroom2',\n",
       " 'Bathroom',\n",
       " 'Car',\n",
       " 'BuildingArea',\n",
       " 'YearBuilt',\n",
       " 'Propertycount',\n",
       " 'sold_year',\n",
       " 'Landsize_log',\n",
       " 'Method_SP',\n",
       " 'Method_PI',\n",
       " 'Method_PN',\n",
       " 'Method_SN',\n",
       " 'Method_NB',\n",
       " 'Method_VB',\n",
       " 'Method_W',\n",
       " 'Method_SA',\n",
       " 'Method_SS',\n",
       " 'Method_N/A']"
      ]
     },
     "execution_count": 80,
     "metadata": {},
     "output_type": "execute_result"
    }
   ],
   "source": [
    "input_features"
   ]
  },
  {
   "cell_type": "code",
   "execution_count": 81,
   "metadata": {
    "collapsed": true
   },
   "outputs": [],
   "source": [
    "X_train = training_set[input_features].values\n",
    "y_train = training_set['Price'].values"
   ]
  },
  {
   "cell_type": "code",
   "execution_count": 82,
   "metadata": {
    "collapsed": true
   },
   "outputs": [],
   "source": [
    "lr = LinearRegression()\n",
    "lr_model = lr.fit(X_train, y_train)"
   ]
  },
  {
   "cell_type": "code",
   "execution_count": 83,
   "metadata": {
    "collapsed": true
   },
   "outputs": [],
   "source": [
    "y_train_pred = lr_model.predict(X_train)"
   ]
  },
  {
   "cell_type": "code",
   "execution_count": 84,
   "metadata": {},
   "outputs": [
    {
     "name": "stdout",
     "output_type": "stream",
     "text": [
      "0.501920202845\n"
     ]
    }
   ],
   "source": [
    "from sklearn.metrics import r2_score\n",
    "r2 = r2_score(y_train, y_train_pred)\n",
    "print(r2)"
   ]
  },
  {
   "cell_type": "markdown",
   "metadata": {},
   "source": [
    "## Error analysis and finetuning the model"
   ]
  },
  {
   "cell_type": "code",
   "execution_count": 85,
   "metadata": {
    "collapsed": true
   },
   "outputs": [],
   "source": [
    "residuals = y_train - y_train_pred"
   ]
  },
  {
   "cell_type": "code",
   "execution_count": 86,
   "metadata": {
    "collapsed": true
   },
   "outputs": [],
   "source": [
    "def standard_scale(val):\n",
    "    mean_vals = np.mean(val)\n",
    "    std_vals = np.std(val)\n",
    "    z_vals = [(x - mean_vals)/std_vals for x in val]\n",
    "    return z_vals"
   ]
  },
  {
   "cell_type": "code",
   "execution_count": 87,
   "metadata": {
    "collapsed": true
   },
   "outputs": [],
   "source": [
    "def plotScatterPlot(residuals, y):\n",
    "    std_residuals = standard_scale(residuals)\n",
    "    std_predicted = standard_scale(y)\n",
    "    plt.scatter(std_predicted, std_residuals, alpha = 0.6, color='y')\n",
    "    l = plt.axhline(y=0, color='r')\n",
    "    plt.xlabel('STD Predicted values')\n",
    "    plt.ylabel('STD Residual values')\n",
    "    plt.axis([-6, 6, -10, 10])\n",
    "    plt.show()"
   ]
  },
  {
   "cell_type": "markdown",
   "metadata": {},
   "source": [
    "### plotScatterPlot(residuals, y_train_pred)"
   ]
  },
  {
   "cell_type": "code",
   "execution_count": 88,
   "metadata": {},
   "outputs": [
    {
     "data": {
      "image/png": "[encoded data removed]",
      "text/plain": [
       "<matplotlib.figure.Figure at 0x15b2c02ec88>"
      ]
     },
     "metadata": {},
     "output_type": "display_data"
    }
   ],
   "source": [
    "plotScatterPlot(residuals, y_train_pred)"
   ]
  },
  {
   "cell_type": "markdown",
   "metadata": {},
   "source": [
    "#### We found heteroscedasticity in the dataset, one of the solution is the apply log transormation on y variable, build model. Let's try that."
   ]
  },
  {
   "cell_type": "code",
   "execution_count": 89,
   "metadata": {},
   "outputs": [
    {
     "data": {
      "text/plain": [
       "numpy.ndarray"
      ]
     },
     "execution_count": 89,
     "metadata": {},
     "output_type": "execute_result"
    }
   ],
   "source": [
    "type(y_train)"
   ]
  },
  {
   "cell_type": "code",
   "execution_count": 90,
   "metadata": {
    "collapsed": true
   },
   "outputs": [],
   "source": [
    "y_train_log = np.log(y_train)"
   ]
  },
  {
   "cell_type": "code",
   "execution_count": 91,
   "metadata": {
    "collapsed": true
   },
   "outputs": [],
   "source": [
    "lr_model = lr_model.fit(X_train, y_train_log)"
   ]
  },
  {
   "cell_type": "code",
   "execution_count": 92,
   "metadata": {
    "collapsed": true
   },
   "outputs": [],
   "source": [
    "y_train_log_pred = lr_model.predict(X_train)"
   ]
  },
  {
   "cell_type": "code",
   "execution_count": 93,
   "metadata": {},
   "outputs": [
    {
     "name": "stdout",
     "output_type": "stream",
     "text": [
      "0.599210937947\n"
     ]
    }
   ],
   "source": [
    "r2 = r2_score(y_train_log, y_train_log_pred)\n",
    "print(r2)"
   ]
  },
  {
   "cell_type": "code",
   "execution_count": 94,
   "metadata": {
    "collapsed": true
   },
   "outputs": [],
   "source": [
    "res = y_train_log - y_train_log_pred"
   ]
  },
  {
   "cell_type": "code",
   "execution_count": 95,
   "metadata": {},
   "outputs": [
    {
     "data": {
      "image/png": "[encoded data removed]",
      "text/plain": [
       "<matplotlib.figure.Figure at 0x15b2d151e48>"
      ]
     },
     "metadata": {},
     "output_type": "display_data"
    }
   ],
   "source": [
    "plotScatterPlot(res, y_train_log_pred)"
   ]
  },
  {
   "cell_type": "code",
   "execution_count": 96,
   "metadata": {
    "collapsed": true
   },
   "outputs": [],
   "source": [
    "from sklearn.ensemble import GradientBoostingRegressor\n",
    "gbrt = GradientBoostingRegressor(max_depth=4, n_estimators=300, learning_rate=0.1, random_state=42)\n",
    "gbrt.fit(X_train, y_train)\n",
    "y_pred_gbrt = gbrt.predict(X_train)"
   ]
  },
  {
   "cell_type": "code",
   "execution_count": 97,
   "metadata": {},
   "outputs": [
    {
     "name": "stdout",
     "output_type": "stream",
     "text": [
      "0.854009196538\n"
     ]
    }
   ],
   "source": [
    "r2 = r2_score(y_train, y_pred_gbrt)\n",
    "print(r2)"
   ]
  },
  {
   "cell_type": "markdown",
   "metadata": {},
   "source": [
    "## Apply model on TEST set and finetune model"
   ]
  },
  {
   "cell_type": "markdown",
   "metadata": {},
   "source": [
    "#### Apply EDA outcome on TEST set"
   ]
  },
  {
   "cell_type": "code",
   "execution_count": 98,
   "metadata": {
    "collapsed": true
   },
   "outputs": [],
   "source": [
    "test_set = test_set.drop(test_set[test_set['Postcode'].isnull()].index)\n",
    "\n",
    "test_set.drop([\"Address\", \"CouncilArea\", \"Regionname\", \"Lattitude\", \"Suburb\", \"Longtitude\"], axis=1, inplace=True)\n",
    "\n",
    "test_set.Date = pd.to_datetime(test_set.Date)\n",
    "test_set[\"sold_year\"] = test_set.Date.apply(lambda x: x.year)\n",
    "test_set.drop(\"Date\", axis=1, inplace=True)\n",
    "\n",
    "test_set.Bedroom2.fillna(value=test_set.Bedroom2.mean(), inplace=True)\n",
    "test_set.Bathroom.fillna(value=test_set.Bathroom.mean(), inplace=True)\n",
    "test_set.Car.fillna(value=test_set.Car.median(), inplace=True)\n",
    "\n",
    "test_set[\"Landsize_log\"] = np.log(test_set[~test_set.Landsize.isnull() & test_set.Landsize > 0]['Landsize'])\n",
    "Landsize_log_mean = test_set[\"Landsize_log\"].mean()\n",
    "test_set[\"Landsize_log\"].fillna(value=Landsize_log_mean, inplace=True)\n",
    "test_set[\"Landsize_log\"] = test_set[\"Landsize_log\"].apply(lambda x: Landsize_log_mean if x == 0 else x) \n",
    "test_set.drop('Landsize', axis=1, inplace=True)\n",
    "\n",
    "test_set.fillna(value= test_set.mean()[[\"BuildingArea\", \"YearBuilt\", \"Propertycount\"]], inplace=True)\n",
    "\n",
    "lst_all_method_cats = ['S', 'SP','PI','PN','SN','NB','VB','W','SA','SS','N/A']\n",
    "test_set.Method = pd.Categorical(test_set.Method, categories=lst_all_method_cats)\n",
    "test_set = pd.get_dummies(test_set, columns=[\"Method\"], prefix=[\"Method\"], drop_first=True)\n",
    "\n",
    "test_set['Type'] = pd.Categorical(test_set['Type'])\n",
    "test_set['Type'] = test_set['Type'].cat.codes\n",
    "\n",
    "test_set['SellerG'] = pd.Categorical(test_set['SellerG'])\n",
    "test_set['SellerG'] = test_set['SellerG'].cat.codes"
   ]
  },
  {
   "cell_type": "code",
   "execution_count": 99,
   "metadata": {
    "collapsed": true
   },
   "outputs": [],
   "source": [
    "input_features = [x for x in training_set.columns if x not in ['Price']]\n",
    "\n",
    "X_test = test_set[input_features].values\n",
    "y_test = test_set['Price'].values"
   ]
  },
  {
   "cell_type": "code",
   "execution_count": 100,
   "metadata": {
    "collapsed": true
   },
   "outputs": [],
   "source": [
    "y_test_pred_gbrt = gbrt.predict(X_test)"
   ]
  },
  {
   "cell_type": "code",
   "execution_count": 101,
   "metadata": {},
   "outputs": [
    {
     "name": "stdout",
     "output_type": "stream",
     "text": [
      "0.756062087303\n"
     ]
    }
   ],
   "source": [
    "r2 = r2_score(y_test, y_test_pred_gbrt)\n",
    "print(r2)"
   ]
  },
  {
   "cell_type": "code",
   "execution_count": 102,
   "metadata": {},
   "outputs": [
    {
     "data": {
      "text/plain": [
       "GridSearchCV(cv=3, error_score='raise',\n",
       "       estimator=GradientBoostingRegressor(alpha=0.9, criterion='friedman_mse', init=None,\n",
       "             learning_rate=0.1, loss='ls', max_depth=3, max_features=None,\n",
       "             max_leaf_nodes=None, min_impurity_decrease=0.0,\n",
       "             min_impurity_split=None, min_samples_leaf=1,\n",
       "             min_samples_split=2, min_weight_fraction_leaf=0.0,\n",
       "             n_estimators=100, presort='auto', random_state=15,\n",
       "             subsample=1.0, verbose=0, warm_start=False),\n",
       "       fit_params=None, iid=True, n_jobs=1,\n",
       "       param_grid=[{'max_depth': [4, 5, 6], 'n_estimators': [200, 300], 'learning_rate': [0.2, 0.1, 0.05, 0.001]}],\n",
       "       pre_dispatch='2*n_jobs', refit=True, return_train_score='warn',\n",
       "       scoring='neg_mean_squared_error', verbose=0)"
      ]
     },
     "execution_count": 102,
     "metadata": {},
     "output_type": "execute_result"
    }
   ],
   "source": [
    "from sklearn.model_selection import GridSearchCV\n",
    "param_grid = [\n",
    "    {'max_depth':[4,5,6], \n",
    "     'n_estimators':[200,300], \n",
    "     'learning_rate':[0.2, 0.1, 0.05, 0.001]} ]\n",
    "grd_gbr_model = GradientBoostingRegressor(random_state=15)\n",
    "grid_search = GridSearchCV(grd_gbr_model, param_grid, cv=3,\n",
    "                           scoring='neg_mean_squared_error')\n",
    "grid_search.fit(X_train, y_train)"
   ]
  },
  {
   "cell_type": "code",
   "execution_count": 103,
   "metadata": {},
   "outputs": [
    {
     "data": {
      "text/plain": [
       "{'learning_rate': 0.1, 'max_depth': 5, 'n_estimators': 300}"
      ]
     },
     "execution_count": 103,
     "metadata": {},
     "output_type": "execute_result"
    }
   ],
   "source": [
    "grid_search.best_params_"
   ]
  },
  {
   "cell_type": "code",
   "execution_count": 104,
   "metadata": {
    "collapsed": true
   },
   "outputs": [],
   "source": [
    "best_y_pred_gbrt = grid_search.best_estimator_.predict(X_train)"
   ]
  },
  {
   "cell_type": "code",
   "execution_count": 105,
   "metadata": {},
   "outputs": [
    {
     "name": "stdout",
     "output_type": "stream",
     "text": [
      "0.890856305484\n"
     ]
    }
   ],
   "source": [
    "r2 = r2_score(y_train, best_y_pred_gbrt)\n",
    "print(r2)"
   ]
  },
  {
   "cell_type": "code",
   "execution_count": 106,
   "metadata": {
    "collapsed": true
   },
   "outputs": [],
   "source": [
    "best_y_test_pred_gbrt = grid_search.best_estimator_.predict(X_test)"
   ]
  },
  {
   "cell_type": "code",
   "execution_count": 107,
   "metadata": {},
   "outputs": [
    {
     "name": "stdout",
     "output_type": "stream",
     "text": [
      "0.759531574627\n"
     ]
    }
   ],
   "source": [
    "r2 = r2_score(y_test, best_y_test_pred_gbrt)\n",
    "print(r2)"
   ]
  },
  {
   "cell_type": "markdown",
   "metadata": {},
   "source": [
    "### Use Log transformed Y - Variable to train"
   ]
  },
  {
   "cell_type": "code",
   "execution_count": 108,
   "metadata": {},
   "outputs": [
    {
     "data": {
      "text/plain": [
       "GridSearchCV(cv=3, error_score='raise',\n",
       "       estimator=GradientBoostingRegressor(alpha=0.9, criterion='friedman_mse', init=None,\n",
       "             learning_rate=0.1, loss='ls', max_depth=3, max_features=None,\n",
       "             max_leaf_nodes=None, min_impurity_decrease=0.0,\n",
       "             min_impurity_split=None, min_samples_leaf=1,\n",
       "             min_samples_split=2, min_weight_fraction_leaf=0.0,\n",
       "             n_estimators=100, presort='auto', random_state=15,\n",
       "             subsample=1.0, verbose=0, warm_start=False),\n",
       "       fit_params=None, iid=True, n_jobs=1,\n",
       "       param_grid=[{'max_depth': [4, 5, 6], 'n_estimators': [200, 300], 'learning_rate': [0.2, 0.1, 0.05, 0.001]}],\n",
       "       pre_dispatch='2*n_jobs', refit=True, return_train_score='warn',\n",
       "       scoring='neg_mean_squared_error', verbose=0)"
      ]
     },
     "execution_count": 108,
     "metadata": {},
     "output_type": "execute_result"
    }
   ],
   "source": [
    "grd_gbr_model = GradientBoostingRegressor(random_state=15)\n",
    "grid_search = GridSearchCV(grd_gbr_model, param_grid, cv=3,\n",
    "                           scoring='neg_mean_squared_error')\n",
    "grid_search.fit(X_train, y_train_log)"
   ]
  },
  {
   "cell_type": "code",
   "execution_count": 109,
   "metadata": {},
   "outputs": [
    {
     "data": {
      "text/plain": [
       "{'learning_rate': 0.1, 'max_depth': 5, 'n_estimators': 300}"
      ]
     },
     "execution_count": 109,
     "metadata": {},
     "output_type": "execute_result"
    }
   ],
   "source": [
    "grid_search.best_params_"
   ]
  },
  {
   "cell_type": "code",
   "execution_count": 110,
   "metadata": {
    "collapsed": true
   },
   "outputs": [],
   "source": [
    "best_y_pred_gbrt_log = grid_search.best_estimator_.predict(X_train)"
   ]
  },
  {
   "cell_type": "code",
   "execution_count": 111,
   "metadata": {},
   "outputs": [
    {
     "name": "stdout",
     "output_type": "stream",
     "text": [
      "0.905398727048\n"
     ]
    }
   ],
   "source": [
    "r2 = r2_score(y_train_log, best_y_pred_gbrt_log)\n",
    "print(r2)"
   ]
  },
  {
   "cell_type": "code",
   "execution_count": 112,
   "metadata": {
    "collapsed": true
   },
   "outputs": [],
   "source": [
    "y_test_log = np.log(y_test)"
   ]
  },
  {
   "cell_type": "code",
   "execution_count": 113,
   "metadata": {
    "collapsed": true
   },
   "outputs": [],
   "source": [
    "best_y_test_pred_gbrt_log = grid_search.best_estimator_.predict(X_test)"
   ]
  },
  {
   "cell_type": "code",
   "execution_count": 114,
   "metadata": {},
   "outputs": [
    {
     "name": "stdout",
     "output_type": "stream",
     "text": [
      "0.847307822713\n"
     ]
    }
   ],
   "source": [
    "r2 = r2_score(y_test_log, best_y_test_pred_gbrt_log)\n",
    "print(r2)"
   ]
  },
  {
   "cell_type": "markdown",
   "metadata": {},
   "source": [
    "## Play with model Hyper-parameters to fix overfitting"
   ]
  },
  {
   "cell_type": "code",
   "execution_count": 115,
   "metadata": {
    "collapsed": true
   },
   "outputs": [],
   "source": [
    "from sklearn.ensemble import GradientBoostingRegressor\n",
    "gbrt1 = GradientBoostingRegressor(max_depth=5, n_estimators=300, learning_rate=0.04, random_state=42)\n",
    "gbrt1.fit(X_train, y_train_log)\n",
    "y_pred_gbrt_log1 = gbrt1.predict(X_train)"
   ]
  },
  {
   "cell_type": "code",
   "execution_count": 116,
   "metadata": {},
   "outputs": [
    {
     "name": "stdout",
     "output_type": "stream",
     "text": [
      "0.879656747706\n"
     ]
    }
   ],
   "source": [
    "r2 = r2_score(y_train_log, y_pred_gbrt_log1)\n",
    "print(r2)"
   ]
  },
  {
   "cell_type": "code",
   "execution_count": 117,
   "metadata": {
    "collapsed": true
   },
   "outputs": [],
   "source": [
    "y_test_pred_gbrt_log1 = gbrt1.predict(X_test)"
   ]
  },
  {
   "cell_type": "code",
   "execution_count": 118,
   "metadata": {},
   "outputs": [
    {
     "name": "stdout",
     "output_type": "stream",
     "text": [
      "0.840413002552\n"
     ]
    }
   ],
   "source": [
    "r2 = r2_score(y_test_log, y_test_pred_gbrt_log1)\n",
    "print(r2)"
   ]
  }
 ],
 "metadata": {
  "kernelspec": {
   "display_name": "Python 3",
   "language": "python",
   "name": "python3"
  },
  "language_info": {
   "codemirror_mode": {
    "name": "ipython",
    "version": 3
   },
   "file_extension": ".py",
   "mimetype": "text/x-python",
   "name": "python",
   "nbconvert_exporter": "python",
   "pygments_lexer": "ipython3",
   "version": "3.6.3"
  }
 },
 "nbformat": 4,
 "nbformat_minor": 2
}
